{
 "cells": [
  {
   "cell_type": "code",
   "execution_count": 179,
   "metadata": {},
   "outputs": [],
   "source": [
    "from IPython.display import display\n",
    "import numpy as np\n",
    "import matplotlib.pyplot as plt\n",
    "import pandas as pd\n",
    "import mglearn\n",
    "from sklearn.datasets import make_blobs\n",
    "from inspect import signature as sig\n",
    "from sklearn.model_selection import train_test_split\n",
    "import warnings\n",
    "warnings.filterwarnings(\"ignore\")"
   ]
  },
  {
   "cell_type": "markdown",
   "metadata": {},
   "source": [
    "# <선형 알고리즘(회귀용모델/분류용모델)>"
   ]
  },
  {
   "cell_type": "markdown",
   "metadata": {},
   "source": [
    "# 회귀용 선형 모델(3)\n",
    "1. 선형 회귀"
   ]
  },
  {
   "cell_type": "code",
   "execution_count": 59,
   "metadata": {},
   "outputs": [],
   "source": [
    "from sklearn.linear_model import LinearRegression"
   ]
  },
  {
   "cell_type": "markdown",
   "metadata": {},
   "source": [
    "과소적합"
   ]
  },
  {
   "cell_type": "code",
   "execution_count": 60,
   "metadata": {
    "scrolled": true
   },
   "outputs": [
    {
     "name": "stdout",
     "output_type": "stream",
     "text": [
      "(array([[-0.75275929],\n",
      "       [ 2.70428584],\n",
      "       [ 1.39196365],\n",
      "       [ 0.59195091],\n",
      "       [-2.06388816],\n",
      "       [-2.06403288],\n",
      "       [-2.65149833],\n",
      "       [ 2.19705687],\n",
      "       [ 0.60669007],\n",
      "       [ 1.24843547],\n",
      "       [-2.87649303],\n",
      "       [ 2.81945911],\n",
      "       [ 1.99465584],\n",
      "       [-1.72596534],\n",
      "       [-1.9090502 ],\n",
      "       [-1.89957294],\n",
      "       [-1.17454654],\n",
      "       [ 0.14853859],\n",
      "       [-0.40832989],\n",
      "       [-1.25262516],\n",
      "       [ 0.67111737],\n",
      "       [-2.16303684],\n",
      "       [-1.24713211],\n",
      "       [-0.80182894],\n",
      "       [-0.26358009],\n",
      "       [ 1.71105577],\n",
      "       [-1.80195731],\n",
      "       [ 0.08540663],\n",
      "       [ 0.55448741],\n",
      "       [-2.72129752],\n",
      "       [ 0.64526911],\n",
      "       [-1.97685526],\n",
      "       [-2.60969044],\n",
      "       [ 2.69331322],\n",
      "       [ 2.7937922 ],\n",
      "       [ 1.85038409],\n",
      "       [-1.17231738],\n",
      "       [-2.41396732],\n",
      "       [ 1.10539816],\n",
      "       [-0.35908504],\n",
      "       [-2.26777059],\n",
      "       [-0.02893854],\n",
      "       [-2.79366887],\n",
      "       [ 2.45592241],\n",
      "       [-1.44732011],\n",
      "       [ 0.97513371],\n",
      "       [-1.12973354],\n",
      "       [ 0.12040813],\n",
      "       [ 0.28026168],\n",
      "       [-1.89087327],\n",
      "       [ 2.81750777],\n",
      "       [ 1.65079694],\n",
      "       [ 2.63699365],\n",
      "       [ 2.3689641 ],\n",
      "       [ 0.58739987],\n",
      "       [ 2.53124541],\n",
      "       [-2.46904499],\n",
      "       [-1.82410283],\n",
      "       [-2.72863627],\n",
      "       [-1.04801802]]), array([-1.18073311,  0.50015912,  0.13772889,  1.17396178, -1.32035898,\n",
      "       -2.37364735, -0.70117304,  1.20319981,  0.29262945,  0.44971554,\n",
      "       -0.48647165,  1.39515571,  1.0738403 , -1.30838148, -1.27708305,\n",
      "       -0.94575843, -0.32691082,  0.26134393, -1.25635546, -0.74646948,\n",
      "        0.96250584, -0.75240909, -0.17851354,  0.13368988, -0.38575444,\n",
      "        0.79900059, -1.11948406,  0.97923163,  0.65823236, -0.08137001,\n",
      "       -0.72142625, -1.0767626 , -0.83684971,  0.70945882,  0.95081838,\n",
      "        0.38109799, -0.19612826, -0.9139074 ,  0.81263817, -0.93416482,\n",
      "       -1.7113156 , -0.32309571, -0.44713127,  1.19812891, -0.75150632,\n",
      "        0.40012342, -0.02565504,  0.77613985,  0.23938228, -1.58831973,\n",
      "        0.73141352,  0.25092544,  1.01581268,  1.28948157,  0.65213403,\n",
      "        0.82614241, -1.7240941 , -1.54664568, -1.03731593, -0.49131681]))\n"
     ]
    }
   ],
   "source": [
    "print(mglearn.datasets.make_wave(n_samples=60))"
   ]
  },
  {
   "cell_type": "code",
   "execution_count": 33,
   "metadata": {},
   "outputs": [],
   "source": [
    "X, y = mglearn.datasets.make_wave(n_samples=60)\n",
    "X_train, X_test, y_train, y_test = train_test_split(X, y, random_state=42)\n",
    "lr = LinearRegression()\n",
    "lr = lr.fit(X_train, y_train)"
   ]
  },
  {
   "cell_type": "code",
   "execution_count": 34,
   "metadata": {},
   "outputs": [
    {
     "name": "stdout",
     "output_type": "stream",
     "text": [
      "[0.39390555]\n"
     ]
    }
   ],
   "source": [
    "print(lr.coef_)"
   ]
  },
  {
   "cell_type": "code",
   "execution_count": 35,
   "metadata": {},
   "outputs": [
    {
     "name": "stdout",
     "output_type": "stream",
     "text": [
      "-0.03180434302675973\n"
     ]
    }
   ],
   "source": [
    "print(lr.intercept_)"
   ]
  },
  {
   "cell_type": "code",
   "execution_count": 36,
   "metadata": {},
   "outputs": [
    {
     "name": "stdout",
     "output_type": "stream",
     "text": [
      "훈련 세트 결정계수: 0.67\n",
      "테스트 세트 결정계수: 0.66\n"
     ]
    }
   ],
   "source": [
    "print(\"훈련 세트 결정계수: {:.2f}\".format(lr.score(X_train, y_train)))\n",
    "print(\"테스트 세트 결정계수: {:.2f}\".format(lr.score(X_test, y_test)))"
   ]
  },
  {
   "cell_type": "markdown",
   "metadata": {},
   "source": [
    "과대 적합"
   ]
  },
  {
   "cell_type": "code",
   "execution_count": 37,
   "metadata": {},
   "outputs": [],
   "source": [
    "X, y = mglearn.datasets.load_extended_boston()\n",
    "X_train, X_test, y_train, y_test = train_test_split(X, y, random_state=0)\n",
    "lr = LinearRegression().fit(X_train, y_train)"
   ]
  },
  {
   "cell_type": "code",
   "execution_count": 194,
   "metadata": {},
   "outputs": [
    {
     "data": {
      "text/plain": [
       "array([1, 0, 1, 1, 0, 0, 0, 0, 0, 1, 1, 1, 0, 0, 1, 1, 0, 0, 1, 1, 0, 0,\n",
       "       1, 1, 1, 1, 1, 1, 1, 0, 1, 1, 1, 1, 1, 1, 1, 1, 0, 1, 0, 1, 0, 1,\n",
       "       1, 1, 0, 1, 0, 1, 1, 1, 1, 0, 1, 1, 1, 0, 0, 0, 1, 0, 0, 0, 1, 1,\n",
       "       0, 1, 1, 1, 1, 1, 1, 1, 1, 0, 0, 0, 0, 1, 1, 1, 1, 1, 0, 1, 0, 1,\n",
       "       1, 1, 1, 0, 1, 1, 0, 0, 0, 1, 0, 1, 0, 0, 0, 1, 1, 0, 1, 1, 0, 1,\n",
       "       0, 1, 1, 0, 1, 0, 1, 1, 0, 0, 1, 1, 0, 1, 0, 1, 1, 0, 1, 1, 1, 1,\n",
       "       1, 0, 0, 0, 1, 1, 1, 1, 1, 1, 1])"
      ]
     },
     "execution_count": 194,
     "metadata": {},
     "output_type": "execute_result"
    }
   ],
   "source": [
    "X_train.shape # --> 379개의 관측치, 104개의 피쳐\n",
    "X.shape\n",
    "y_test"
   ]
  },
  {
   "cell_type": "code",
   "execution_count": 38,
   "metadata": {},
   "outputs": [
    {
     "name": "stdout",
     "output_type": "stream",
     "text": [
      "훈련 세트 결정계수: 0.95\n",
      "테스트 세트 결정계수: 0.61\n"
     ]
    }
   ],
   "source": [
    "print(\"훈련 세트 결정계수: {:.2f}\".format(lr.score(X_train, y_train)))\n",
    "print(\"테스트 세트 결정계수: {:.2f}\".format(lr.score(X_test, y_test)))"
   ]
  },
  {
   "cell_type": "markdown",
   "metadata": {},
   "source": [
    "2. 릿지회귀"
   ]
  },
  {
   "cell_type": "code",
   "execution_count": 40,
   "metadata": {},
   "outputs": [
    {
     "name": "stdout",
     "output_type": "stream",
     "text": [
      "훈련세트점수 :  0.8857966585170943\n",
      "테스트세트점수 :  0.7527683481744755\n"
     ]
    }
   ],
   "source": [
    "from sklearn.linear_model import Ridge\n",
    "ridge = Ridge().fit(X_train, y_train)\n",
    "print(\"훈련세트점수 : \", ridge.score(X_train, y_train))\n",
    "print(\"테스트세트점수 : \", ridge.score(X_test, y_test))"
   ]
  },
  {
   "cell_type": "code",
   "execution_count": 67,
   "metadata": {},
   "outputs": [
    {
     "name": "stdout",
     "output_type": "stream",
     "text": [
      "훈련세트점수 :  0.7882787115369615\n",
      "테스트세트점수 :  0.6359411489177311\n"
     ]
    }
   ],
   "source": [
    "ridge10 = Ridge(alpha=10).fit(X_train, y_train)\n",
    "print(\"훈련세트점수 : \", ridge10.score(X_train, y_train))\n",
    "print(\"테스트세트점수 : \", ridge10.score(X_test, y_test))"
   ]
  },
  {
   "cell_type": "code",
   "execution_count": 123,
   "metadata": {},
   "outputs": [
    {
     "name": "stdout",
     "output_type": "stream",
     "text": [
      "[-8.11609631e-01  6.47608896e-01 -8.09783229e-01  3.11334709e-01\n",
      " -6.84623747e-01  4.38797575e+00 -1.47554474e-01 -2.44214065e+00\n",
      "  8.45915099e-01 -1.14727508e+00 -2.33162040e+00  1.06787015e+00\n",
      " -3.98391025e+00 -5.98636976e-01  2.93228193e-03 -5.21253823e-01\n",
      "  1.40339673e-01 -6.45256057e-01 -7.61400539e-01 -7.47231171e-01\n",
      " -3.86298005e-02 -8.29808059e-01 -7.52859756e-01 -6.75605899e-01\n",
      " -8.72001488e-01 -3.23330640e-01  1.27336327e+00 -3.37279550e-01\n",
      "  6.30682038e-02  2.37092897e-01  2.09805607e+00  1.00996768e-01\n",
      " -2.79529662e-01  1.73222619e-01 -3.33557850e-01 -3.74226653e-01\n",
      "  6.98414808e-01 -6.96284918e-01  7.79521010e-01  3.74843210e-01\n",
      " -6.24101244e-01 -7.63657605e-01  4.35756439e-02 -1.04000852e+00\n",
      "  4.24401576e-01  4.78687021e-01 -3.84125445e-01 -9.93802653e-02\n",
      " -1.30226356e+00  3.11334709e-01 -5.92097637e-01  6.33816542e-01\n",
      "  6.66792895e-01 -1.27959944e-01  1.35346930e+00  1.09839246e+00\n",
      "  6.37100148e-01  4.76402917e-01 -9.70121915e-01 -1.43819286e+00\n",
      " -6.91866218e-02 -9.29335512e-01 -4.55299563e-01 -6.56129378e-01\n",
      " -9.31180916e-01 -1.17260753e+00  3.35509026e-01 -1.76546423e+00\n",
      "  7.02804084e+00  1.51765506e+00  3.90833563e-01 -1.21723366e+00\n",
      " -1.86718575e+00 -1.36105591e+00  5.46323332e+00 -2.89652146e+00\n",
      "  1.26693013e-01 -1.48311656e+00  5.35392087e-01 -4.89624715e-01\n",
      " -1.62979525e+00  6.13665753e-01 -2.98786893e+00 -1.27807033e+00\n",
      " -2.83056586e-01 -1.03432949e+00 -1.69293338e+00 -2.26352788e+00\n",
      " -1.33076511e+00  9.26721453e-01  6.27047921e-01  2.35007586e-01\n",
      "  1.33438639e+00 -1.88410183e+00  3.92630676e-01 -4.42694598e-01\n",
      " -4.54914088e-01 -2.05668359e+00 -1.49547766e+00 -1.76954962e+00\n",
      " -2.03637103e+00  1.07984916e+00 -3.95264092e+00  1.42448967e-01]\n"
     ]
    },
    {
     "data": {
      "text/plain": [
       "(104,)"
      ]
     },
     "execution_count": 123,
     "metadata": {},
     "output_type": "execute_result"
    }
   ],
   "source": [
    "print(ridge10.coef_) # -> 피쳐가 104개이므로 가중치값도 104개이다\n",
    "ridge10.coef_.shape"
   ]
  },
  {
   "cell_type": "code",
   "execution_count": 74,
   "metadata": {},
   "outputs": [
    {
     "data": {
      "text/plain": [
       "<matplotlib.legend.Legend at 0x20b52beb0a0>"
      ]
     },
     "execution_count": 74,
     "metadata": {},
     "output_type": "execute_result"
    },
    {
     "data": {
      "image/png": "[encoded data removed]",
      "text/plain": [
       "<Figure size 432x288 with 1 Axes>"
      ]
     },
     "metadata": {
      "needs_background": "light"
     },
     "output_type": "display_data"
    }
   ],
   "source": [
    "plt.plot(ridge10.coef_, '^', label=\"Ridge alpha=10\")\n",
    "plt.plot(ridge.coef_, 'o', label=\"Ridge alpha=1\")\n",
    "plt.plot(lr.coef_, 'o', label=\"linear regression\")\n",
    "\n",
    "plt.xlabel(\"feature\")\n",
    "plt.ylabel(\"coefficient(weight)\")\n",
    "plt.hlines(0,0,len(lr.coef_))\n",
    "plt.ylim(-20,+25)\n",
    "plt.legend()"
   ]
  },
  {
   "cell_type": "markdown",
   "metadata": {},
   "source": [
    "3. 라쏘 회귀"
   ]
  },
  {
   "cell_type": "markdown",
   "metadata": {},
   "source": [
    "# 분류용 선형 모델(2)"
   ]
  },
  {
   "cell_type": "markdown",
   "metadata": {},
   "source": [
    "1. 로지스틱 회귀(이진분류와 다중분류 모두 가능!)"
   ]
  },
  {
   "cell_type": "code",
   "execution_count": 87,
   "metadata": {
    "scrolled": true
   },
   "outputs": [
    {
     "data": {
      "text/plain": [
       "{'data': array([[1.799e+01, 1.038e+01, 1.228e+02, ..., 2.654e-01, 4.601e-01,\n",
       "         1.189e-01],\n",
       "        [2.057e+01, 1.777e+01, 1.329e+02, ..., 1.860e-01, 2.750e-01,\n",
       "         8.902e-02],\n",
       "        [1.969e+01, 2.125e+01, 1.300e+02, ..., 2.430e-01, 3.613e-01,\n",
       "         8.758e-02],\n",
       "        ...,\n",
       "        [1.660e+01, 2.808e+01, 1.083e+02, ..., 1.418e-01, 2.218e-01,\n",
       "         7.820e-02],\n",
       "        [2.060e+01, 2.933e+01, 1.401e+02, ..., 2.650e-01, 4.087e-01,\n",
       "         1.240e-01],\n",
       "        [7.760e+00, 2.454e+01, 4.792e+01, ..., 0.000e+00, 2.871e-01,\n",
       "         7.039e-02]]),\n",
       " 'target': array([0, 0, 0, 0, 0, 0, 0, 0, 0, 0, 0, 0, 0, 0, 0, 0, 0, 0, 0, 1, 1, 1,\n",
       "        0, 0, 0, 0, 0, 0, 0, 0, 0, 0, 0, 0, 0, 0, 0, 1, 0, 0, 0, 0, 0, 0,\n",
       "        0, 0, 1, 0, 1, 1, 1, 1, 1, 0, 0, 1, 0, 0, 1, 1, 1, 1, 0, 1, 0, 0,\n",
       "        1, 1, 1, 1, 0, 1, 0, 0, 1, 0, 1, 0, 0, 1, 1, 1, 0, 0, 1, 0, 0, 0,\n",
       "        1, 1, 1, 0, 1, 1, 0, 0, 1, 1, 1, 0, 0, 1, 1, 1, 1, 0, 1, 1, 0, 1,\n",
       "        1, 1, 1, 1, 1, 1, 1, 0, 0, 0, 1, 0, 0, 1, 1, 1, 0, 0, 1, 0, 1, 0,\n",
       "        0, 1, 0, 0, 1, 1, 0, 1, 1, 0, 1, 1, 1, 1, 0, 1, 1, 1, 1, 1, 1, 1,\n",
       "        1, 1, 0, 1, 1, 1, 1, 0, 0, 1, 0, 1, 1, 0, 0, 1, 1, 0, 0, 1, 1, 1,\n",
       "        1, 0, 1, 1, 0, 0, 0, 1, 0, 1, 0, 1, 1, 1, 0, 1, 1, 0, 0, 1, 0, 0,\n",
       "        0, 0, 1, 0, 0, 0, 1, 0, 1, 0, 1, 1, 0, 1, 0, 0, 0, 0, 1, 1, 0, 0,\n",
       "        1, 1, 1, 0, 1, 1, 1, 1, 1, 0, 0, 1, 1, 0, 1, 1, 0, 0, 1, 0, 1, 1,\n",
       "        1, 1, 0, 1, 1, 1, 1, 1, 0, 1, 0, 0, 0, 0, 0, 0, 0, 0, 0, 0, 0, 0,\n",
       "        0, 0, 1, 1, 1, 1, 1, 1, 0, 1, 0, 1, 1, 0, 1, 1, 0, 1, 0, 0, 1, 1,\n",
       "        1, 1, 1, 1, 1, 1, 1, 1, 1, 1, 1, 0, 1, 1, 0, 1, 0, 1, 1, 1, 1, 1,\n",
       "        1, 1, 1, 1, 1, 1, 1, 1, 1, 0, 1, 1, 1, 0, 1, 0, 1, 1, 1, 1, 0, 0,\n",
       "        0, 1, 1, 1, 1, 0, 1, 0, 1, 0, 1, 1, 1, 0, 1, 1, 1, 1, 1, 1, 1, 0,\n",
       "        0, 0, 1, 1, 1, 1, 1, 1, 1, 1, 1, 1, 1, 0, 0, 1, 0, 0, 0, 1, 0, 0,\n",
       "        1, 1, 1, 1, 1, 0, 1, 1, 1, 1, 1, 0, 1, 1, 1, 0, 1, 1, 0, 0, 1, 1,\n",
       "        1, 1, 1, 1, 0, 1, 1, 1, 1, 1, 1, 1, 0, 1, 1, 1, 1, 1, 0, 1, 1, 0,\n",
       "        1, 1, 1, 1, 1, 1, 1, 1, 1, 1, 1, 1, 0, 1, 0, 0, 1, 0, 1, 1, 1, 1,\n",
       "        1, 0, 1, 1, 0, 1, 0, 1, 1, 0, 1, 0, 1, 1, 1, 1, 1, 1, 1, 1, 0, 0,\n",
       "        1, 1, 1, 1, 1, 1, 0, 1, 1, 1, 1, 1, 1, 1, 1, 1, 1, 0, 1, 1, 1, 1,\n",
       "        1, 1, 1, 0, 1, 0, 1, 1, 0, 1, 1, 1, 1, 1, 0, 0, 1, 0, 1, 0, 1, 1,\n",
       "        1, 1, 1, 0, 1, 1, 0, 1, 0, 1, 0, 0, 1, 1, 1, 0, 1, 1, 1, 1, 1, 1,\n",
       "        1, 1, 1, 1, 1, 0, 1, 0, 0, 1, 1, 1, 1, 1, 1, 1, 1, 1, 1, 1, 1, 1,\n",
       "        1, 1, 1, 1, 1, 1, 1, 1, 1, 1, 1, 1, 0, 0, 0, 0, 0, 0, 1]),\n",
       " 'frame': None,\n",
       " 'target_names': array(['malignant', 'benign'], dtype='<U9'),\n",
       " 'DESCR': '.. _breast_cancer_dataset:\\n\\nBreast cancer wisconsin (diagnostic) dataset\\n--------------------------------------------\\n\\n**Data Set Characteristics:**\\n\\n    :Number of Instances: 569\\n\\n    :Number of Attributes: 30 numeric, predictive attributes and the class\\n\\n    :Attribute Information:\\n        - radius (mean of distances from center to points on the perimeter)\\n        - texture (standard deviation of gray-scale values)\\n        - perimeter\\n        - area\\n        - smoothness (local variation in radius lengths)\\n        - compactness (perimeter^2 / area - 1.0)\\n        - concavity (severity of concave portions of the contour)\\n        - concave points (number of concave portions of the contour)\\n        - symmetry\\n        - fractal dimension (\"coastline approximation\" - 1)\\n\\n        The mean, standard error, and \"worst\" or largest (mean of the three\\n        worst/largest values) of these features were computed for each image,\\n        resulting in 30 features.  For instance, field 0 is Mean Radius, field\\n        10 is Radius SE, field 20 is Worst Radius.\\n\\n        - class:\\n                - WDBC-Malignant\\n                - WDBC-Benign\\n\\n    :Summary Statistics:\\n\\n    ===================================== ====== ======\\n                                           Min    Max\\n    ===================================== ====== ======\\n    radius (mean):                        6.981  28.11\\n    texture (mean):                       9.71   39.28\\n    perimeter (mean):                     43.79  188.5\\n    area (mean):                          143.5  2501.0\\n    smoothness (mean):                    0.053  0.163\\n    compactness (mean):                   0.019  0.345\\n    concavity (mean):                     0.0    0.427\\n    concave points (mean):                0.0    0.201\\n    symmetry (mean):                      0.106  0.304\\n    fractal dimension (mean):             0.05   0.097\\n    radius (standard error):              0.112  2.873\\n    texture (standard error):             0.36   4.885\\n    perimeter (standard error):           0.757  21.98\\n    area (standard error):                6.802  542.2\\n    smoothness (standard error):          0.002  0.031\\n    compactness (standard error):         0.002  0.135\\n    concavity (standard error):           0.0    0.396\\n    concave points (standard error):      0.0    0.053\\n    symmetry (standard error):            0.008  0.079\\n    fractal dimension (standard error):   0.001  0.03\\n    radius (worst):                       7.93   36.04\\n    texture (worst):                      12.02  49.54\\n    perimeter (worst):                    50.41  251.2\\n    area (worst):                         185.2  4254.0\\n    smoothness (worst):                   0.071  0.223\\n    compactness (worst):                  0.027  1.058\\n    concavity (worst):                    0.0    1.252\\n    concave points (worst):               0.0    0.291\\n    symmetry (worst):                     0.156  0.664\\n    fractal dimension (worst):            0.055  0.208\\n    ===================================== ====== ======\\n\\n    :Missing Attribute Values: None\\n\\n    :Class Distribution: 212 - Malignant, 357 - Benign\\n\\n    :Creator:  Dr. William H. Wolberg, W. Nick Street, Olvi L. Mangasarian\\n\\n    :Donor: Nick Street\\n\\n    :Date: November, 1995\\n\\nThis is a copy of UCI ML Breast Cancer Wisconsin (Diagnostic) datasets.\\nhttps://goo.gl/U2Uwz2\\n\\nFeatures are computed from a digitized image of a fine needle\\naspirate (FNA) of a breast mass.  They describe\\ncharacteristics of the cell nuclei present in the image.\\n\\nSeparating plane described above was obtained using\\nMultisurface Method-Tree (MSM-T) [K. P. Bennett, \"Decision Tree\\nConstruction Via Linear Programming.\" Proceedings of the 4th\\nMidwest Artificial Intelligence and Cognitive Science Society,\\npp. 97-101, 1992], a classification method which uses linear\\nprogramming to construct a decision tree.  Relevant features\\nwere selected using an exhaustive search in the space of 1-4\\nfeatures and 1-3 separating planes.\\n\\nThe actual linear program used to obtain the separating plane\\nin the 3-dimensional space is that described in:\\n[K. P. Bennett and O. L. Mangasarian: \"Robust Linear\\nProgramming Discrimination of Two Linearly Inseparable Sets\",\\nOptimization Methods and Software 1, 1992, 23-34].\\n\\nThis database is also available through the UW CS ftp server:\\n\\nftp ftp.cs.wisc.edu\\ncd math-prog/cpo-dataset/machine-learn/WDBC/\\n\\n.. topic:: References\\n\\n   - W.N. Street, W.H. Wolberg and O.L. Mangasarian. Nuclear feature extraction \\n     for breast tumor diagnosis. IS&T/SPIE 1993 International Symposium on \\n     Electronic Imaging: Science and Technology, volume 1905, pages 861-870,\\n     San Jose, CA, 1993.\\n   - O.L. Mangasarian, W.N. Street and W.H. Wolberg. Breast cancer diagnosis and \\n     prognosis via linear programming. Operations Research, 43(4), pages 570-577, \\n     July-August 1995.\\n   - W.H. Wolberg, W.N. Street, and O.L. Mangasarian. Machine learning techniques\\n     to diagnose breast cancer from fine-needle aspirates. Cancer Letters 77 (1994) \\n     163-171.',\n",
       " 'feature_names': array(['mean radius', 'mean texture', 'mean perimeter', 'mean area',\n",
       "        'mean smoothness', 'mean compactness', 'mean concavity',\n",
       "        'mean concave points', 'mean symmetry', 'mean fractal dimension',\n",
       "        'radius error', 'texture error', 'perimeter error', 'area error',\n",
       "        'smoothness error', 'compactness error', 'concavity error',\n",
       "        'concave points error', 'symmetry error',\n",
       "        'fractal dimension error', 'worst radius', 'worst texture',\n",
       "        'worst perimeter', 'worst area', 'worst smoothness',\n",
       "        'worst compactness', 'worst concavity', 'worst concave points',\n",
       "        'worst symmetry', 'worst fractal dimension'], dtype='<U23'),\n",
       " 'filename': 'c:\\\\app\\\\python38\\\\lib\\\\site-packages\\\\sklearn\\\\datasets\\\\data\\\\breast_cancer.csv'}"
      ]
     },
     "execution_count": 87,
     "metadata": {},
     "output_type": "execute_result"
    }
   ],
   "source": [
    "from sklearn.linear_model import LogisticRegression\n",
    "from sklearn.datasets import load_breast_cancer\n",
    "cancer = load_breast_cancer()\n",
    "cancer"
   ]
  },
  {
   "cell_type": "code",
   "execution_count": 162,
   "metadata": {},
   "outputs": [
    {
     "name": "stdout",
     "output_type": "stream",
     "text": [
      "train data score:  0.9530516431924883\n",
      "train data score:  0.958041958041958\n"
     ]
    }
   ],
   "source": [
    "X_train, X_test, y_train, y_test = train_test_split(\n",
    "    cancer.data, cancer.target, stratify=cancer.target, random_state=42)\n",
    "logreg = LogisticRegression( max_iter =500, C=1 ).fit(X_train, y_train)\n",
    "print(\"train data score: \", logreg.score(X_train, y_train))\n",
    "print(\"train data score: \", logreg.score(X_test, y_test))"
   ]
  },
  {
   "cell_type": "code",
   "execution_count": 163,
   "metadata": {},
   "outputs": [
    {
     "name": "stdout",
     "output_type": "stream",
     "text": [
      "train data score:  0.9530516431924883\n",
      "train data score:  0.958041958041958\n"
     ]
    }
   ],
   "source": [
    "logreg100 = LogisticRegression( max_iter =500, C=100 ).fit(X_train, y_train)\n",
    "print(\"train data score: \", logreg.score(X_train, y_train))\n",
    "print(\"train data score: \", logreg.score(X_test, y_test))"
   ]
  },
  {
   "cell_type": "code",
   "execution_count": 164,
   "metadata": {},
   "outputs": [
    {
     "name": "stdout",
     "output_type": "stream",
     "text": [
      "train data score:  0.9530516431924883\n",
      "train data score:  0.958041958041958\n"
     ]
    }
   ],
   "source": [
    "logreg0001 = LogisticRegression( max_iter =500, C=0.001 ).fit(X_train, y_train)\n",
    "print(\"train data score: \", logreg.score(X_train, y_train))\n",
    "print(\"train data score: \", logreg.score(X_test, y_test))"
   ]
  },
  {
   "cell_type": "code",
   "execution_count": 210,
   "metadata": {
    "scrolled": true
   },
   "outputs": [
    {
     "name": "stdout",
     "output_type": "stream",
     "text": [
      "(569, 30)\n",
      "['mean radius' 'mean texture' 'mean perimeter' 'mean area'\n",
      " 'mean smoothness' 'mean compactness' 'mean concavity'\n",
      " 'mean concave points' 'mean symmetry' 'mean fractal dimension'\n",
      " 'radius error' 'texture error' 'perimeter error' 'area error'\n",
      " 'smoothness error' 'compactness error' 'concavity error'\n",
      " 'concave points error' 'symmetry error' 'fractal dimension error'\n",
      " 'worst radius' 'worst texture' 'worst perimeter' 'worst area'\n",
      " 'worst smoothness' 'worst compactness' 'worst concavity'\n",
      " 'worst concave points' 'worst symmetry' 'worst fractal dimension']\n",
      "[0 0 0 0 0 0 0 0 0 0 0 0 0 0 0 0 0 0 0 1 1 1 0 0 0 0 0 0 0 0 0 0 0 0 0 0 0\n",
      " 1 0 0 0 0 0 0 0 0 1 0 1 1 1 1 1 0 0 1 0 0 1 1 1 1 0 1 0 0 1 1 1 1 0 1 0 0\n",
      " 1 0 1 0 0 1 1 1 0 0 1 0 0 0 1 1 1 0 1 1 0 0 1 1 1 0 0 1 1 1 1 0 1 1 0 1 1\n",
      " 1 1 1 1 1 1 0 0 0 1 0 0 1 1 1 0 0 1 0 1 0 0 1 0 0 1 1 0 1 1 0 1 1 1 1 0 1\n",
      " 1 1 1 1 1 1 1 1 0 1 1 1 1 0 0 1 0 1 1 0 0 1 1 0 0 1 1 1 1 0 1 1 0 0 0 1 0\n",
      " 1 0 1 1 1 0 1 1 0 0 1 0 0 0 0 1 0 0 0 1 0 1 0 1 1 0 1 0 0 0 0 1 1 0 0 1 1\n",
      " 1 0 1 1 1 1 1 0 0 1 1 0 1 1 0 0 1 0 1 1 1 1 0 1 1 1 1 1 0 1 0 0 0 0 0 0 0\n",
      " 0 0 0 0 0 0 0 1 1 1 1 1 1 0 1 0 1 1 0 1 1 0 1 0 0 1 1 1 1 1 1 1 1 1 1 1 1\n",
      " 1 0 1 1 0 1 0 1 1 1 1 1 1 1 1 1 1 1 1 1 1 0 1 1 1 0 1 0 1 1 1 1 0 0 0 1 1\n",
      " 1 1 0 1 0 1 0 1 1 1 0 1 1 1 1 1 1 1 0 0 0 1 1 1 1 1 1 1 1 1 1 1 0 0 1 0 0\n",
      " 0 1 0 0 1 1 1 1 1 0 1 1 1 1 1 0 1 1 1 0 1 1 0 0 1 1 1 1 1 1 0 1 1 1 1 1 1\n",
      " 1 0 1 1 1 1 1 0 1 1 0 1 1 1 1 1 1 1 1 1 1 1 1 0 1 0 0 1 0 1 1 1 1 1 0 1 1\n",
      " 0 1 0 1 1 0 1 0 1 1 1 1 1 1 1 1 0 0 1 1 1 1 1 1 0 1 1 1 1 1 1 1 1 1 1 0 1\n",
      " 1 1 1 1 1 1 0 1 0 1 1 0 1 1 1 1 1 0 0 1 0 1 0 1 1 1 1 1 0 1 1 0 1 0 1 0 0\n",
      " 1 1 1 0 1 1 1 1 1 1 1 1 1 1 1 0 1 0 0 1 1 1 1 1 1 1 1 1 1 1 1 1 1 1 1 1 1\n",
      " 1 1 1 1 1 1 1 0 0 0 0 0 0 1]\n",
      "(1, 30)\n",
      "[[ 1.87107433e+00  1.13958020e-01 -5.21713897e-02 -6.11040474e-04\n",
      "  -1.49506300e-01 -3.85309223e-01 -5.76720815e-01 -2.96938216e-01\n",
      "  -2.45915110e-01 -3.62768154e-02 -1.60136748e-02  1.32615015e+00\n",
      "  -6.62063253e-03 -9.15767830e-02 -1.43914971e-02 -9.46389577e-03\n",
      "  -4.24794425e-02 -3.42069262e-02 -4.29328397e-02  4.01666983e-03\n",
      "   1.04435772e+00 -3.33731873e-01 -8.38447001e-02 -2.50214057e-02\n",
      "  -2.66320178e-01 -1.25182580e+00 -1.59409702e+00 -6.09659163e-01\n",
      "  -7.49353529e-01 -1.34027208e-01]]\n",
      "(30, 1)\n",
      "[[ 1.87107433e+00]\n",
      " [ 1.13958020e-01]\n",
      " [-5.21713897e-02]\n",
      " [-6.11040474e-04]\n",
      " [-1.49506300e-01]\n",
      " [-3.85309223e-01]\n",
      " [-5.76720815e-01]\n",
      " [-2.96938216e-01]\n",
      " [-2.45915110e-01]\n",
      " [-3.62768154e-02]\n",
      " [-1.60136748e-02]\n",
      " [ 1.32615015e+00]\n",
      " [-6.62063253e-03]\n",
      " [-9.15767830e-02]\n",
      " [-1.43914971e-02]\n",
      " [-9.46389577e-03]\n",
      " [-4.24794425e-02]\n",
      " [-3.42069262e-02]\n",
      " [-4.29328397e-02]\n",
      " [ 4.01666983e-03]\n",
      " [ 1.04435772e+00]\n",
      " [-3.33731873e-01]\n",
      " [-8.38447001e-02]\n",
      " [-2.50214057e-02]\n",
      " [-2.66320178e-01]\n",
      " [-1.25182580e+00]\n",
      " [-1.59409702e+00]\n",
      " [-6.09659163e-01]\n",
      " [-7.49353529e-01]\n",
      " [-1.34027208e-01]]\n"
     ]
    }
   ],
   "source": [
    "print(cancer.data.shape)\n",
    "print(cancer.feature_names)\n",
    "print(cancer.target)\n",
    "print(logreg.coef_.shape) # --> 2차원 어레이에서는 속의 요소 어레이가 하나의 관측치 취급이 된다. 따라서 Transeverse해줘야!\n",
    "print(logreg.coef_)\n",
    "print(logreg.coef_.T.shape)\n",
    "print(logreg.coef_.T)"
   ]
  },
  {
   "cell_type": "code",
   "execution_count": null,
   "metadata": {},
   "outputs": [],
   "source": [
    "plt.plot(logreg.coef_, 'o', label= \"C=1\")\n",
    "plt.plot(logreg100.coef_, '^', label= \"C=100\")"
   ]
  },
  {
   "cell_type": "code",
   "execution_count": 167,
   "metadata": {},
   "outputs": [
    {
     "data": {
      "text/plain": [
       "<matplotlib.legend.Legend at 0x20b544f6400>"
      ]
     },
     "execution_count": 167,
     "metadata": {},
     "output_type": "execute_result"
    },
    {
     "data": {
      "image/png": "[encoded data removed]",
      "text/plain": [
       "<Figure size 432x288 with 1 Axes>"
      ]
     },
     "metadata": {
      "needs_background": "light"
     },
     "output_type": "display_data"
    }
   ],
   "source": [
    "plt.plot(logreg.coef_.T, 'o', label= \"C=1\")\n",
    "plt.plot(logreg100.coef_.T, '^', label= \"C=100\")\n",
    "plt.plot(logreg0001.coef_.T, 'v', label= \"C=0.001\")\n",
    "plt.xticks(range(cancer.data.shape[1]), cancer.feature_names, rotation = 90)\n",
    "plt.hlines(0,0,cancer.data.shape[1])\n",
    "plt.ylim(-5,+5)\n",
    "plt.xlabel(\"feature\")\n",
    "plt.ylabel(\"weight/coefficient\")\n",
    "plt.legend()"
   ]
  },
  {
   "cell_type": "markdown",
   "metadata": {},
   "source": [
    "L1 규제로 로지스틱 회귀 모델을 만드려고 했더니 안되네?"
   ]
  },
  {
   "cell_type": "code",
   "execution_count": 209,
   "metadata": {},
   "outputs": [
    {
     "name": "stdout",
     "output_type": "stream",
     "text": [
      "C= 1  :  o\n",
      "prameter C = 1  train set accuracy score :  0.9530516431924883\n",
      "prameter C = 1  test set accuracy score :  0.958041958041958\n",
      "C= 100  :  ^\n",
      "prameter C = 100  train set accuracy score :  0.9741784037558685\n",
      "prameter C = 100  test set accuracy score :  0.965034965034965\n",
      "C= 0.001  :  v\n",
      "prameter C = 0.001  train set accuracy score :  0.9530516431924883\n",
      "prameter C = 0.001  test set accuracy score :  0.9440559440559441\n"
     ]
    },
    {
     "data": {
      "image/png": "[encoded data removed]",
      "text/plain": [
       "<Figure size 432x288 with 1 Axes>"
      ]
     },
     "metadata": {
      "needs_background": "light"
     },
     "output_type": "display_data"
    }
   ],
   "source": [
    "for c, marker in zip([1,100,0.001], ['o','^','v']):\n",
    "    print(\"C=\",c,\" : \",marker)\n",
    "    lr_l1 = LogisticRegression(C=c, penalty=\"l2\", max_iter = 500).fit(X_train, y_train)\n",
    "    print(\"prameter C =\",c,\" train set accuracy score : \", lr_l1.score(X_train, y_train))\n",
    "    print(\"prameter C =\",c,\" test set accuracy score : \", lr_l1.score(X_test, y_test))\n",
    "    plt.plot(lr_l1.coef_.T, marker, label=\"C={:.2f}\".format(c))"
   ]
  },
  {
   "cell_type": "markdown",
   "metadata": {},
   "source": [
    "2. 서포트 벡터 머신(기본적으로 이진분류만 지원하나 다중 클래스 분류를 할 수 있도록 확장 가능!)"
   ]
  },
  {
   "cell_type": "code",
   "execution_count": 174,
   "metadata": {},
   "outputs": [
    {
     "data": {
      "text/plain": [
       "array([2, 1, 0, 1, 2, 1, 0, 1, 1, 0, 0, 2, 2, 0, 0, 2, 2, 0, 2, 2, 0, 2,\n",
       "       2, 0, 0, 0, 1, 2, 2, 2, 2, 1, 1, 2, 0, 0, 0, 0, 1, 1, 2, 0, 1, 0,\n",
       "       0, 1, 2, 2, 2, 1, 1, 1, 0, 2, 2, 2, 0, 0, 1, 0, 2, 1, 2, 1, 2, 2,\n",
       "       1, 2, 1, 1, 1, 2, 2, 0, 1, 2, 1, 2, 1, 1, 0, 1, 0, 2, 0, 0, 0, 1,\n",
       "       0, 1, 1, 1, 0, 1, 0, 0, 0, 1, 2, 0])"
      ]
     },
     "execution_count": 174,
     "metadata": {},
     "output_type": "execute_result"
    },
    {
     "data": {
      "image/png": "[encoded data removed]",
      "text/plain": [
       "<Figure size 432x288 with 1 Axes>"
      ]
     },
     "metadata": {
      "needs_background": "light"
     },
     "output_type": "display_data"
    }
   ],
   "source": [
    "from sklearn.datasets import make_blobs\n",
    "X,y = make_blobs(random_state = 42, n_samples = 100)\n",
    "mglearn.discrete_scatter(X[:,0], X[:,1],y)\n",
    "plt.xlabel(\"feature 1\")\n",
    "plt.ylabel(\"feature 2\")\n",
    "plt.legend([\"class 0\", \"class 1\", \"class 2\"])\n",
    "y"
   ]
  },
  {
   "cell_type": "code",
   "execution_count": 192,
   "metadata": {},
   "outputs": [
    {
     "name": "stdout",
     "output_type": "stream",
     "text": [
      "[[-0.00814201  0.04991776]\n",
      " [ 0.06289914 -0.00878009]\n",
      " [-0.03011591 -0.05918335]]\n",
      "[-0.00799206 -0.00429605 -0.00596865]\n"
     ]
    }
   ],
   "source": [
    "from sklearn.svm import LinearSVC\n",
    "linear_svm = LinearSVC(C=0.0001).fit(X, y)\n",
    "print(linear_svm.coef_)\n",
    "print(linear_svm.intercept_)"
   ]
  },
  {
   "cell_type": "code",
   "execution_count": 193,
   "metadata": {},
   "outputs": [
    {
     "data": {
      "text/plain": [
       "Text(0, 0.5, 'feature 1')"
      ]
     },
     "execution_count": 193,
     "metadata": {},
     "output_type": "execute_result"
    },
    {
     "data": {
      "image/png": "[encoded data removed]",
      "text/plain": [
       "<Figure size 432x288 with 1 Axes>"
      ]
     },
     "metadata": {},
     "output_type": "display_data"
    }
   ],
   "source": [
    "mglearn.plots.plot_2d_classification(linear_svm, X, fill=True, alpha=.7)\n",
    "mglearn.discrete_scatter(X[:,0], X[:,1], y)\n",
    "line = np.linspace(-15,15)\n",
    "for coef, intercept, color in zip(linear_svm.coef_, linear_svm.intercept_, mglearn.cm3.colors) :\n",
    "    plt.plot(line, -(line*coef[0] + intercept) / coef[1], c=color)\n",
    "plt.legend(['class 0','class 1', 'class 2', 'class 0 border', 'class 1 border', 'class 2 border'], loc=(1.01, 0.3))\n",
    "plt.xlabel(\"feature 0\")\n",
    "plt.ylabel(\"feature 1\")"
   ]
  },
  {
   "cell_type": "code",
   "execution_count": 208,
   "metadata": {},
   "outputs": [
    {
     "data": {
      "text/plain": [
       "0.997"
      ]
     },
     "execution_count": 208,
     "metadata": {},
     "output_type": "execute_result"
    }
   ],
   "source": [
    "X,y = make_blobs(random_state = 42, n_samples = 1000)\n",
    "linear_svm.score(X, y)"
   ]
  }
 ],
 "metadata": {
  "kernelspec": {
   "display_name": "Python 3",
   "language": "python",
   "name": "python3"
  },
  "language_info": {
   "codemirror_mode": {
    "name": "ipython",
    "version": 3
   },
   "file_extension": ".py",
   "mimetype": "text/x-python",
   "name": "python",
   "nbconvert_exporter": "python",
   "pygments_lexer": "ipython3",
   "version": "3.8.3"
  }
 },
 "nbformat": 4,
 "nbformat_minor": 4
}
