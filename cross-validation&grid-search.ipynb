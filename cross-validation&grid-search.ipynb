{
 "cells": [
  {
   "cell_type": "markdown",
   "metadata": {},
   "source": [
    " # 교차 검증(Cross validation)\n",
    " 일반화 성능을 재기 위해서 \n",
    " \n",
    " 훈련세트와 테스트 세트로 한 번만 나눠서 한번만 훈련, 평가하는 것이 아니라 \n",
    " \n",
    " 데이터를 여러번 반복해서 나누고 여러 번 학습, 평가합니다.\n",
    " \n",
    " 따라서 더 안정적이고 뛰어난 통계적 평가 방법이라 할 수 있습니다. "
   ]
  },
  {
   "cell_type": "markdown",
   "metadata": {},
   "source": [
    "# 1. 교차 검증의 종류 , 교차 검증 분할기\n",
    "# 1-1. k-겹 교차 검증\n",
    "먼저 데이터를 k개의 폴드(Fold;전체 데이터를 거의 비슷한 크기로 나눈 부분집합 k개)로 나눕니다.\n",
    "\n",
    "그 중 하나를 테스트 세트로 나머지를 트레인 세트로 해서 총 k번의 학습과 평가를 하게 됩니다.\n",
    "\n",
    "그 결과로 k개의 정확도 값이 나옵니다. "
   ]
  },
  {
   "cell_type": "code",
   "execution_count": 1,
   "metadata": {},
   "outputs": [],
   "source": [
    "from IPython.display import display\n",
    "import numpy as np\n",
    "import matplotlib.pyplot as plt\n",
    "import pandas as pd\n",
    "import mglearn\n",
    "from sklearn.datasets import make_blobs\n",
    "from inspect import signature as sig\n",
    "from sklearn.model_selection import train_test_split\n",
    "import warnings\n",
    "warnings.filterwarnings(\"ignore\")"
   ]
  },
  {
   "cell_type": "code",
   "execution_count": 2,
   "metadata": {},
   "outputs": [],
   "source": [
    "from sklearn.model_selection import cross_val_score\n",
    "from sklearn.datasets import load_iris\n",
    "from sklearn.linear_model import LogisticRegression"
   ]
  },
  {
   "cell_type": "code",
   "execution_count": 6,
   "metadata": {},
   "outputs": [
    {
     "name": "stdout",
     "output_type": "stream",
     "text": [
      "cross validation scores :  [0.96666667 1.         0.93333333 0.96666667 1.        ]\n"
     ]
    }
   ],
   "source": [
    "iris = load_iris()\n",
    "logreg = LogisticRegression() # 모델 생성\n",
    "scores = cross_val_score(logreg, iris.data, iris.target) # 매개변수로 모델과 feature, 레이블을 넣고 학습, 평가\n",
    "# --> 단 이 함수는 모델을 반환하지는 않고 평가 점수만을 반환한다.\n",
    "print(\"cross validation scores : \", scores) # fold 개수의 디폴트값이 5개이므로 5개의 정확도 점수가 나옴\n",
    "# 폴드에 따라 비교적 차이가 큰(0.93~1) 이유는 모델이 폴드에 과적합되었거나 데이터 셋이 작기 때문일 수 있습니다."
   ]
  },
  {
   "cell_type": "code",
   "execution_count": 7,
   "metadata": {},
   "outputs": [
    {
     "name": "stdout",
     "output_type": "stream",
     "text": [
      "cross validation scores :  [0.98 0.96 0.98]\n",
      "mean of scores:  0.9733333333333333\n"
     ]
    }
   ],
   "source": [
    "iris = load_iris()\n",
    "logreg = LogisticRegression() # 모델 생성\n",
    "scores = cross_val_score(logreg, iris.data, iris.target, cv = 3) # cv 매개변수로 fold 개수를 지정해줄 수 있다.\n",
    "print(\"cross validation scores : \", scores)\n",
    "print(\"mean of scores: \", scores.mean()) # 그룹 함수로 점수의 평균을 보자."
   ]
  },
  {
   "cell_type": "markdown",
   "metadata": {},
   "source": [
    "* 교차 검증의 장점 \n",
    "\n",
    "테스트 세트에 각 관측치(샘플)이 정확하게 한 번씩 들어가보기 때문에 \n",
    "\n",
    "훈련세트에는 분류하기 어려운 샘플만 들어가고 테스트 세트에는 분류하기좋은 샘플만 들어간다거나 \n",
    "\n",
    "희귀한 샘플이 테스트 세트에만 들어간다거나 하는 일이 없다. \n",
    "\n",
    "교차 검증의 평균값을 높이기 위해서는 데이터셋에 있는 모든 폴드, 샘플에 대해서 모델이 잘 일반화 되어야 한다. \n",
    "\n",
    "따라서 교차 검증을 통해 일반화 성능을 볼 수 있다고 하는 것이다.\n",
    "\n",
    "-> 폴드 수를 늘릴 수록(데이터를 여러 개로 나눌 수록) 모델이 훈련데이터에 얼마나 민감한지 알 수 있습니다. 최악과 최선의 경우를 짐작 가능합니다.\n",
    "\n",
    "-> 폴드 수를 늘릴 수록(데이터를 여러 개로 나눌 수록) 학습에 사용하는 데이터(관측치)가 많아져 더 정확한 모델을 만들 것이라 기대할 수 있습니다."
   ]
  },
  {
   "cell_type": "markdown",
   "metadata": {},
   "source": [
    "# 1-2. 계층별 k-겹 교차 검증(Stratified k-fold cross-validation)\n",
    "계층별 교차 검증에서는 폴드 안의 클래스의 비율이 전체 데이터셋의 클래스 비율과 같도록 데이터를 나눕니다.\n",
    "\n",
    "따라서 k-겹 교차 검증보다 더 안정적입니다. (일반화에 좋습니다.)\n",
    "\n",
    "기본적으로 분류에서는 StratifiedKFold를 사용해 훈련 세트와 테스트 세트를 나누고 회귀에서는 단순한 KFold를 적용합니다. "
   ]
  },
  {
   "cell_type": "code",
   "execution_count": 18,
   "metadata": {},
   "outputs": [
    {
     "data": {
      "image/png": "[encoded data removed]",
      "text/plain": [
       "<Figure size 864x360 with 2 Axes>"
      ]
     },
     "metadata": {
      "needs_background": "light"
     },
     "output_type": "display_data"
    }
   ],
   "source": [
    "mglearn.plots.plot_stratified_cross_validation()"
   ]
  },
  {
   "cell_type": "markdown",
   "metadata": {},
   "source": [
    "KFold에서 shuffle 매개변수를 기본값 False 대신 True로 지정하면 폴드를 나누기 저에 무작위로 섞을 수 있습니다. 또한 random_state 매개변수를 고정해서 똑같은 작업을 재현할 수 있습니다. \n",
    "\n",
    "하지만 cross_val_score 함수를 사용할 때 KFold의 매개변수를 제어할 방법은 없습니다. \n",
    "\n",
    "이를 위해서는 따로 KFold 객체(교차검증분할기;Cross-validation splitter)를 만들어 매개변수를 제어해준 다음에 그 객체를 cross_val_score 함수의 cv 매개변수로 전달해야 합니다. "
   ]
  },
  {
   "cell_type": "code",
   "execution_count": 11,
   "metadata": {},
   "outputs": [
    {
     "name": "stdout",
     "output_type": "stream",
     "text": [
      "[1.         0.83333333 1.         1.         0.93333333]\n",
      "0.9533333333333334\n",
      "[0.96666667 0.96666667 0.96666667 0.96666667 0.93333333]\n",
      "0.9533333333333334\n"
     ]
    }
   ],
   "source": [
    "from sklearn.model_selection import KFold\n",
    "from sklearn.model_selection import StratifiedKFold\n",
    "kfold = KFold(n_splits = 5, shuffle = True, random_state = 0)\n",
    "print(cross_val_score(logreg,iris.data, iris.target, cv = kfold))\n",
    "scores = cross_val_score(logreg,iris.data, iris.target, cv = kfold)\n",
    "print(scores.mean())\n",
    "\n",
    "skfold = StratifiedKFold(n_splits = 5, shuffle = True, random_state = 0)\n",
    "print(cross_val_score(logreg,iris.data, iris.target, cv = skfold))\n",
    "scores = cross_val_score(logreg,iris.data, iris.target, cv = kfold)\n",
    "print(scores.mean())"
   ]
  },
  {
   "cell_type": "markdown",
   "metadata": {},
   "source": [
    "# 1-3. LOOCV\n",
    "폴드 하나에 샘플 하나만 들어있는 k-겹 교차 검증\n",
    "데이터 셋이 클때는 시간이 매우 오래 걸리지만, 데이터 셋이 작을 때 일반화성능이 안좋은 점을 보완할 수 있다는 장점이 있다. "
   ]
  },
  {
   "cell_type": "code",
   "execution_count": 21,
   "metadata": {},
   "outputs": [
    {
     "name": "stdout",
     "output_type": "stream",
     "text": [
      "[1. 1. 1. 1. 1. 1. 1. 1. 1. 1. 1. 1. 1. 1. 1. 1. 1. 1. 1. 1. 1. 1. 1. 1.\n",
      " 1. 1. 1. 1. 1. 1. 1. 1. 1. 1. 1. 1. 1. 1. 1. 1. 1. 1. 1. 1. 1. 1. 1. 1.\n",
      " 1. 1. 1. 1. 1. 1. 1. 1. 1. 1. 1. 1. 1. 1. 1. 1. 1. 1. 1. 1. 1. 1. 0. 1.\n",
      " 1. 1. 1. 1. 1. 0. 1. 1. 1. 1. 1. 0. 1. 1. 1. 1. 1. 1. 1. 1. 1. 1. 1. 1.\n",
      " 1. 1. 1. 1. 1. 1. 1. 1. 1. 1. 0. 1. 1. 1. 1. 1. 1. 1. 1. 1. 1. 1. 1. 0.\n",
      " 1. 1. 1. 1. 1. 1. 1. 1. 1. 1. 1. 1. 1. 1. 1. 1. 1. 1. 1. 1. 1. 1. 1. 1.\n",
      " 1. 1. 1. 1. 1. 1.]\n",
      "how many split :  150\n",
      "0.9666666666666667\n"
     ]
    }
   ],
   "source": [
    "from sklearn.model_selection import LeaveOneOut\n",
    "loo = LeaveOneOut()\n",
    "scores = cross_val_score(logreg,iris.data, iris.target, cv = loo)\n",
    "print(scores)\n",
    "print(\"how many split : \", len(scores))\n",
    "print(scores.mean())\n",
    "# 확실히 오래걸리는구만..."
   ]
  },
  {
   "cell_type": "markdown",
   "metadata": {},
   "source": [
    "# 1-4. 임의 분할 교차 검증(shuffle-split cross-validation)\n",
    "train_size 만큼의 포인트로 훈련 세트를 만들고, test_size 만큼의 포인트(훈련세트와 중첩되지 않는)로 테스트 세트를 만들도록 분할합니다.\n",
    "\n",
    "정수를 입력하면 데이터 포인트의 절대 개수를 의미하며, 0-1사이의 실수를 입력하면 전체 데이터에서의 비율을 나타냅니다.\n",
    "\n",
    "-> 반복 횟수를 훈련 세트나 테스트 세트의 크기와 독립적으로 조절해야 할 때 유용합니다.\n",
    "\n",
    "-> 또한 train_size와 test_size의 합을 전체와 다르게 함으로써 전체 데이터의 일부만 사용할 수 있습니다. 이렇게 데이터를 부분 샘플링(subsampling)하는 방식은 대규모 데이터셋을 작업할 때 유용합니다.\n",
    "\n",
    "ShuffleSplit의 계층별 버전으로 분류 작업에 적합한 StratifiedShuffleSplit도 있습니다."
   ]
  },
  {
   "cell_type": "code",
   "execution_count": 19,
   "metadata": {},
   "outputs": [
    {
     "data": {
      "image/png": "[encoded data removed]",
      "text/plain": [
       "<Figure size 720x144 with 1 Axes>"
      ]
     },
     "metadata": {
      "needs_background": "light"
     },
     "output_type": "display_data"
    }
   ],
   "source": [
    "mglearn.plots.plot_shuffle_split()"
   ]
  },
  {
   "cell_type": "code",
   "execution_count": 15,
   "metadata": {},
   "outputs": [
    {
     "name": "stdout",
     "output_type": "stream",
     "text": [
      "교차 검증 점수 :  0.9626666666666667\n"
     ]
    }
   ],
   "source": [
    "from sklearn.model_selection import ShuffleSplit\n",
    "shuffle_split = ShuffleSplit(test_size = .5, train_size = .5, n_splits = 10, random_state = 0) \n",
    "# 기본적으로 shuffle이므로 shuffle 매개변수는 없다. \n",
    "scores = cross_val_score(logreg, iris.data, iris.target, cv = shuffle_split)\n",
    "print(\"교차 검증 점수 : \", scores.mean())"
   ]
  },
  {
   "cell_type": "markdown",
   "metadata": {},
   "source": [
    "# 1-5. 그룹별 교차 검증\n",
    "예를 들어 여러 사람의 얼굴 사진을 보고 표정을 인식하는 시스템을 만든다고 할 때,\n",
    "\n",
    "학습하지 않은 다른 사람의 얼굴에 대한 일반화 성능을 정확하게 평가하기 위해 훈련 세트와 테스트 세트에 서로 다른 사람의 사진이 들어가도록 해야 합니다.\n",
    "\n",
    "-> 사진의 사람이 누구인지 기록한 배열을 groups 매개변수로 전달합니다. \n",
    "\n",
    "-> 이 배열은 훈련 세트와 테스트 세트를 만들 때 분리되지 않아야 할 그룹으로 지정하는 것이다."
   ]
  },
  {
   "cell_type": "code",
   "execution_count": 25,
   "metadata": {},
   "outputs": [
    {
     "data": {
      "image/png": "[encoded data removed]",
      "text/plain": [
       "<Figure size 720x144 with 1 Axes>"
      ]
     },
     "metadata": {
      "needs_background": "light"
     },
     "output_type": "display_data"
    }
   ],
   "source": [
    "mglearn.plots.plot_group_kfold()"
   ]
  },
  {
   "cell_type": "code",
   "execution_count": 26,
   "metadata": {},
   "outputs": [
    {
     "name": "stdout",
     "output_type": "stream",
     "text": [
      "[0.75       0.6        0.66666667]\n"
     ]
    }
   ],
   "source": [
    "from sklearn.model_selection import GroupKFold\n",
    "X,y = make_blobs(n_samples =12, random_state = 0)\n",
    "groups = [0,0,0,1,1,1,1,2,2,3,3,3]\n",
    "scores = cross_val_score(logreg, X, y, groups, cv = GroupKFold(n_splits=3))\n",
    "print(scores)"
   ]
  },
  {
   "cell_type": "markdown",
   "metadata": {},
   "source": [
    "# 2. 그리드 서치(grid search) _ 매개변수 튜닝\n",
    "모델에서 최적의(일반화 성능을 최대로 높여주는) 매개변수 값을 찾기 위해 관심있는 매개변수들을 대상으로 가능한 모든 조합을 시도해보는 것 "
   ]
  },
  {
   "cell_type": "markdown",
   "metadata": {},
   "source": [
    "평가를 위해서는 모델을 만들 때 사용하지 않은 독립된 데이터셋이 필요합니다. (테스트 세트를 활용해서 어떠한 선택을 했다면, 그것은 테스트 세트의 정보를 모델에 누설한 것입니다. 따라서 최종 평가에만 사용하도록 테스트 세트를 분리해 유지하는 것이 중요합니다.)\n",
    "\n",
    "데이터를 훈련용, 검증용, 테스트용으로 3개로 나눕니다.\n",
    "\n",
    "- 훈련 세트로는 모델을 만들고\n",
    "\n",
    "- 검증 세트로는 최적의 매개변수를 찾고\n",
    "\n",
    "- 이때, 최적의 매개변수를 설정하고 훈련세트와 검증세트 데이터를 모두 이용해 모델을 새로 학습시킵니다.(새로운 모델) \n",
    "  \n",
    "      -> 모델을 만들 때 가능한 한 많은 데이터를 이용하기 위함\n",
    "\n",
    "- 마지막으로 테스트 세트로 앞서 만든 새로운 모델의 성능을 평가합니다. \n"
   ]
  },
  {
   "cell_type": "code",
   "execution_count": 28,
   "metadata": {},
   "outputs": [
    {
     "name": "stdout",
     "output_type": "stream",
     "text": [
      "84 \n",
      " 28 \n",
      " 38\n"
     ]
    }
   ],
   "source": [
    "from sklearn.svm import SVC\n",
    "# 데이터를 훈련용, 검증용, 테스트용으로 나눔\n",
    "X_trainval, X_test, y_trainval, y_test = train_test_split(iris.data, iris.target, random_state = 0)\n",
    "X_train, X_valid, y_train, y_valid = train_test_split(X_trainval, y_trainval, random_state = 1)\n",
    "print(X_train.shape[0],\"\\n\", X_valid.shape[0], \"\\n\" ,X_test.shape[0])"
   ]
  },
  {
   "cell_type": "code",
   "execution_count": 29,
   "metadata": {},
   "outputs": [
    {
     "name": "stdout",
     "output_type": "stream",
     "text": [
      "0.9642857142857143\n",
      "{'C': 10, 'gamma': 0.001}\n"
     ]
    }
   ],
   "source": [
    "best_score = 0\n",
    "for gamma in [0.001,0.01,0.1,1,10,100]:\n",
    "    for C in [0.001,0.01,0.1,1,10,100]:\n",
    "        svm = SVC(gamma = gamma, C=C)\n",
    "        svm.fit(X_train, y_train)\n",
    "        score = svm.score(X_valid, y_valid)\n",
    "        if score > best_score :\n",
    "            best_score = score \n",
    "            best_parameters = {'C':C, 'gamma':gamma}\n",
    "print(best_score) # 검증세트에서의 최고점수\n",
    "print(best_parameters) #최적의 파라미터"
   ]
  },
  {
   "cell_type": "code",
   "execution_count": 31,
   "metadata": {},
   "outputs": [
    {
     "name": "stdout",
     "output_type": "stream",
     "text": [
      "0.9210526315789473\n"
     ]
    }
   ],
   "source": [
    "# 훈련세트와 검증세트를 합쳐 새롭게 학습을 시킨 모델을 \n",
    "# 테스트 셋을 사용해 평가합니다.\n",
    "svm = SVC(**best_parameters)\n",
    "svm.fit(X_trainval, y_trainval)\n",
    "test_score = svm.score(X_test, y_test)\n",
    "print(test_score)"
   ]
  },
  {
   "cell_type": "markdown",
   "metadata": {},
   "source": [
    "# 2-1. 교차 검증을 사용한 그리드 서치\n",
    "일반화 성능을 더 잘 평가 하려면 훈련 세트와 검증 세트를 한 번만 나누지 않고 교차 검증을 사용해 각 매개변수 조합의 성능을 평가할 수 있습니다. \n",
    "\n",
    "교차 검증은 단지 모델의 성능을 평가하기 위한 방법이다. 하지만 그리드 서치와 가은 매개변수 탐색 방법과 합쳐서 많이 사용되기 때문에 많은 사람들이 교차 검증이란 용어를 교차검증을 사용한 그리드 서치라는 의미로 주로 사용합니다."
   ]
  },
  {
   "cell_type": "code",
   "execution_count": 33,
   "metadata": {},
   "outputs": [
    {
     "data": {
      "text/plain": [
       "0.9736842105263158"
      ]
     },
     "execution_count": 33,
     "metadata": {},
     "output_type": "execute_result"
    }
   ],
   "source": [
    "best_score = 0\n",
    "for gamma in [0.001,0.01,0.1,1,10,100]:\n",
    "    for C in [0.001,0.01,0.1,1,10,100]:\n",
    "        svm = SVC(gamma = gamma, C=C)\n",
    "        scores = cross_val_score(svm, X_trainval, y_trainval, cv = 5)\n",
    "        score = np.mean(scores)\n",
    "        if score > best_score : \n",
    "            best_score = score\n",
    "            best_parameters = {'C':C, 'gamma':gamma}\n",
    "\n",
    "svm = SVC(**best_parameters)\n",
    "svm.fit(X_trainval, y_trainval)\n",
    "svm.score(X_test, y_test)"
   ]
  },
  {
   "cell_type": "code",
   "execution_count": 35,
   "metadata": {
    "scrolled": true
   },
   "outputs": [
    {
     "ename": "ValueError",
     "evalue": "The number of FixedLocator locations (21), usually from a call to set_ticks, does not match the number of ticklabels (36).",
     "output_type": "error",
     "traceback": [
      "\u001b[0;31m---------------------------------------------------------------------------\u001b[0m",
      "\u001b[0;31mValueError\u001b[0m                                Traceback (most recent call last)",
      "\u001b[0;32m<ipython-input-35-2c072ceff24f>\u001b[0m in \u001b[0;36m<module>\u001b[0;34m\u001b[0m\n\u001b[0;32m----> 1\u001b[0;31m \u001b[0mmglearn\u001b[0m\u001b[0;34m.\u001b[0m\u001b[0mplots\u001b[0m\u001b[0;34m.\u001b[0m\u001b[0mplot_cross_val_selection\u001b[0m\u001b[0;34m(\u001b[0m\u001b[0;34m)\u001b[0m\u001b[0;34m\u001b[0m\u001b[0;34m\u001b[0m\u001b[0m\n\u001b[0m",
      "\u001b[0;32m~/.local/lib/python3.6/site-packages/mglearn/plot_grid_search.py\u001b[0m in \u001b[0;36mplot_cross_val_selection\u001b[0;34m()\u001b[0m\n\u001b[1;32m     37\u001b[0m     plt.xticks(range(len(results)), [str(x).strip(\"{}\").replace(\"'\", \"\") for x\n\u001b[1;32m     38\u001b[0m                                      in grid_search.cv_results_['params']],\n\u001b[0;32m---> 39\u001b[0;31m                rotation=90)\n\u001b[0m\u001b[1;32m     40\u001b[0m     \u001b[0mplt\u001b[0m\u001b[0;34m.\u001b[0m\u001b[0mylabel\u001b[0m\u001b[0;34m(\u001b[0m\u001b[0;34m\"Validation accuracy\"\u001b[0m\u001b[0;34m)\u001b[0m\u001b[0;34m\u001b[0m\u001b[0;34m\u001b[0m\u001b[0m\n\u001b[1;32m     41\u001b[0m     \u001b[0mplt\u001b[0m\u001b[0;34m.\u001b[0m\u001b[0mxlabel\u001b[0m\u001b[0;34m(\u001b[0m\u001b[0;34m\"Parameter settings\"\u001b[0m\u001b[0;34m)\u001b[0m\u001b[0;34m\u001b[0m\u001b[0;34m\u001b[0m\u001b[0m\n",
      "\u001b[0;32m~/.local/lib/python3.6/site-packages/matplotlib/pyplot.py\u001b[0m in \u001b[0;36mxticks\u001b[0;34m(ticks, labels, **kwargs)\u001b[0m\n\u001b[1;32m   1641\u001b[0m         \u001b[0mlabels\u001b[0m \u001b[0;34m=\u001b[0m \u001b[0max\u001b[0m\u001b[0;34m.\u001b[0m\u001b[0mget_xticklabels\u001b[0m\u001b[0;34m(\u001b[0m\u001b[0;34m)\u001b[0m\u001b[0;34m\u001b[0m\u001b[0;34m\u001b[0m\u001b[0m\n\u001b[1;32m   1642\u001b[0m     \u001b[0;32melse\u001b[0m\u001b[0;34m:\u001b[0m\u001b[0;34m\u001b[0m\u001b[0;34m\u001b[0m\u001b[0m\n\u001b[0;32m-> 1643\u001b[0;31m         \u001b[0mlabels\u001b[0m \u001b[0;34m=\u001b[0m \u001b[0max\u001b[0m\u001b[0;34m.\u001b[0m\u001b[0mset_xticklabels\u001b[0m\u001b[0;34m(\u001b[0m\u001b[0mlabels\u001b[0m\u001b[0;34m,\u001b[0m \u001b[0;34m**\u001b[0m\u001b[0mkwargs\u001b[0m\u001b[0;34m)\u001b[0m\u001b[0;34m\u001b[0m\u001b[0;34m\u001b[0m\u001b[0m\n\u001b[0m\u001b[1;32m   1644\u001b[0m     \u001b[0;32mfor\u001b[0m \u001b[0ml\u001b[0m \u001b[0;32min\u001b[0m \u001b[0mlabels\u001b[0m\u001b[0;34m:\u001b[0m\u001b[0;34m\u001b[0m\u001b[0;34m\u001b[0m\u001b[0m\n\u001b[1;32m   1645\u001b[0m         \u001b[0ml\u001b[0m\u001b[0;34m.\u001b[0m\u001b[0mupdate\u001b[0m\u001b[0;34m(\u001b[0m\u001b[0mkwargs\u001b[0m\u001b[0;34m)\u001b[0m\u001b[0;34m\u001b[0m\u001b[0;34m\u001b[0m\u001b[0m\n",
      "\u001b[0;32m~/.local/lib/python3.6/site-packages/matplotlib/axes/_base.py\u001b[0m in \u001b[0;36mwrapper\u001b[0;34m(self, *args, **kwargs)\u001b[0m\n\u001b[1;32m     61\u001b[0m \u001b[0;34m\u001b[0m\u001b[0m\n\u001b[1;32m     62\u001b[0m         \u001b[0;32mdef\u001b[0m \u001b[0mwrapper\u001b[0m\u001b[0;34m(\u001b[0m\u001b[0mself\u001b[0m\u001b[0;34m,\u001b[0m \u001b[0;34m*\u001b[0m\u001b[0margs\u001b[0m\u001b[0;34m,\u001b[0m \u001b[0;34m**\u001b[0m\u001b[0mkwargs\u001b[0m\u001b[0;34m)\u001b[0m\u001b[0;34m:\u001b[0m\u001b[0;34m\u001b[0m\u001b[0;34m\u001b[0m\u001b[0m\n\u001b[0;32m---> 63\u001b[0;31m             \u001b[0;32mreturn\u001b[0m \u001b[0mget_method\u001b[0m\u001b[0;34m(\u001b[0m\u001b[0mself\u001b[0m\u001b[0;34m)\u001b[0m\u001b[0;34m(\u001b[0m\u001b[0;34m*\u001b[0m\u001b[0margs\u001b[0m\u001b[0;34m,\u001b[0m \u001b[0;34m**\u001b[0m\u001b[0mkwargs\u001b[0m\u001b[0;34m)\u001b[0m\u001b[0;34m\u001b[0m\u001b[0;34m\u001b[0m\u001b[0m\n\u001b[0m\u001b[1;32m     64\u001b[0m \u001b[0;34m\u001b[0m\u001b[0m\n\u001b[1;32m     65\u001b[0m         \u001b[0mwrapper\u001b[0m\u001b[0;34m.\u001b[0m\u001b[0m__module__\u001b[0m \u001b[0;34m=\u001b[0m \u001b[0mowner\u001b[0m\u001b[0;34m.\u001b[0m\u001b[0m__module__\u001b[0m\u001b[0;34m\u001b[0m\u001b[0;34m\u001b[0m\u001b[0m\n",
      "\u001b[0;32m~/.local/lib/python3.6/site-packages/matplotlib/cbook/deprecation.py\u001b[0m in \u001b[0;36mwrapper\u001b[0;34m(*args, **kwargs)\u001b[0m\n\u001b[1;32m    449\u001b[0m                 \u001b[0;34m\"parameter will become keyword-only %(removal)s.\"\u001b[0m\u001b[0;34m,\u001b[0m\u001b[0;34m\u001b[0m\u001b[0;34m\u001b[0m\u001b[0m\n\u001b[1;32m    450\u001b[0m                 name=name, obj_type=f\"parameter of {func.__name__}()\")\n\u001b[0;32m--> 451\u001b[0;31m         \u001b[0;32mreturn\u001b[0m \u001b[0mfunc\u001b[0m\u001b[0;34m(\u001b[0m\u001b[0;34m*\u001b[0m\u001b[0margs\u001b[0m\u001b[0;34m,\u001b[0m \u001b[0;34m**\u001b[0m\u001b[0mkwargs\u001b[0m\u001b[0;34m)\u001b[0m\u001b[0;34m\u001b[0m\u001b[0;34m\u001b[0m\u001b[0m\n\u001b[0m\u001b[1;32m    452\u001b[0m \u001b[0;34m\u001b[0m\u001b[0m\n\u001b[1;32m    453\u001b[0m     \u001b[0;32mreturn\u001b[0m \u001b[0mwrapper\u001b[0m\u001b[0;34m\u001b[0m\u001b[0;34m\u001b[0m\u001b[0m\n",
      "\u001b[0;32m~/.local/lib/python3.6/site-packages/matplotlib/axis.py\u001b[0m in \u001b[0;36m_set_ticklabels\u001b[0;34m(self, labels, fontdict, minor, **kwargs)\u001b[0m\n\u001b[1;32m   1791\u001b[0m         \u001b[0;32mif\u001b[0m \u001b[0mfontdict\u001b[0m \u001b[0;32mis\u001b[0m \u001b[0;32mnot\u001b[0m \u001b[0;32mNone\u001b[0m\u001b[0;34m:\u001b[0m\u001b[0;34m\u001b[0m\u001b[0;34m\u001b[0m\u001b[0m\n\u001b[1;32m   1792\u001b[0m             \u001b[0mkwargs\u001b[0m\u001b[0;34m.\u001b[0m\u001b[0mupdate\u001b[0m\u001b[0;34m(\u001b[0m\u001b[0mfontdict\u001b[0m\u001b[0;34m)\u001b[0m\u001b[0;34m\u001b[0m\u001b[0;34m\u001b[0m\u001b[0m\n\u001b[0;32m-> 1793\u001b[0;31m         \u001b[0;32mreturn\u001b[0m \u001b[0mself\u001b[0m\u001b[0;34m.\u001b[0m\u001b[0mset_ticklabels\u001b[0m\u001b[0;34m(\u001b[0m\u001b[0mlabels\u001b[0m\u001b[0;34m,\u001b[0m \u001b[0mminor\u001b[0m\u001b[0;34m=\u001b[0m\u001b[0mminor\u001b[0m\u001b[0;34m,\u001b[0m \u001b[0;34m**\u001b[0m\u001b[0mkwargs\u001b[0m\u001b[0;34m)\u001b[0m\u001b[0;34m\u001b[0m\u001b[0;34m\u001b[0m\u001b[0m\n\u001b[0m\u001b[1;32m   1794\u001b[0m \u001b[0;34m\u001b[0m\u001b[0m\n\u001b[1;32m   1795\u001b[0m     \u001b[0;34m@\u001b[0m\u001b[0mcbook\u001b[0m\u001b[0;34m.\u001b[0m\u001b[0m_make_keyword_only\u001b[0m\u001b[0;34m(\u001b[0m\u001b[0;34m\"3.2\"\u001b[0m\u001b[0;34m,\u001b[0m \u001b[0;34m\"minor\"\u001b[0m\u001b[0;34m)\u001b[0m\u001b[0;34m\u001b[0m\u001b[0;34m\u001b[0m\u001b[0m\n",
      "\u001b[0;32m~/.local/lib/python3.6/site-packages/matplotlib/axis.py\u001b[0m in \u001b[0;36mset_ticklabels\u001b[0;34m(self, ticklabels, minor, **kwargs)\u001b[0m\n\u001b[1;32m   1713\u001b[0m             \u001b[0;32mif\u001b[0m \u001b[0mlen\u001b[0m\u001b[0;34m(\u001b[0m\u001b[0mlocator\u001b[0m\u001b[0;34m.\u001b[0m\u001b[0mlocs\u001b[0m\u001b[0;34m)\u001b[0m \u001b[0;34m!=\u001b[0m \u001b[0mlen\u001b[0m\u001b[0;34m(\u001b[0m\u001b[0mticklabels\u001b[0m\u001b[0;34m)\u001b[0m \u001b[0;32mand\u001b[0m \u001b[0mlen\u001b[0m\u001b[0;34m(\u001b[0m\u001b[0mticklabels\u001b[0m\u001b[0;34m)\u001b[0m \u001b[0;34m!=\u001b[0m \u001b[0;36m0\u001b[0m\u001b[0;34m:\u001b[0m\u001b[0;34m\u001b[0m\u001b[0;34m\u001b[0m\u001b[0m\n\u001b[1;32m   1714\u001b[0m                 raise ValueError(\n\u001b[0;32m-> 1715\u001b[0;31m                     \u001b[0;34m\"The number of FixedLocator locations\"\u001b[0m\u001b[0;34m\u001b[0m\u001b[0;34m\u001b[0m\u001b[0m\n\u001b[0m\u001b[1;32m   1716\u001b[0m                     \u001b[0;34mf\" ({len(locator.locs)}), usually from a call to\"\u001b[0m\u001b[0;34m\u001b[0m\u001b[0;34m\u001b[0m\u001b[0m\n\u001b[1;32m   1717\u001b[0m                     \u001b[0;34m\" set_ticks, does not match\"\u001b[0m\u001b[0;34m\u001b[0m\u001b[0;34m\u001b[0m\u001b[0m\n",
      "\u001b[0;31mValueError\u001b[0m: The number of FixedLocator locations (21), usually from a call to set_ticks, does not match the number of ticklabels (36)."
     ]
    },
    {
     "data": {
      "image/png": "[encoded data removed]",
      "text/plain": [
       "<Figure size 720x216 with 1 Axes>"
      ]
     },
     "metadata": {
      "needs_background": "light"
     },
     "output_type": "display_data"
    }
   ],
   "source": [
    "mglearn.plots.plot_cross_val_selection()\n",
    "# 평균 정확도가 가장 높게 나온 매개변수 값을 채택"
   ]
  },
  {
   "cell_type": "markdown",
   "metadata": {},
   "source": [
    "# GridSearchCV 객체\n",
    "교차 검증을 사용한 그리드 서치를 할 수 있는 추정기 객체\n",
    "\n",
    "GridSearchCV 객체의 fit 메서드는 최적의 매개변수를 찾는 일뿐만 아니라, 최적의 매개 변수로 전체 훈련 데이터 세트를 학습시킨 새로운 모델을 만들어 반환합니다. \n",
    "\n",
    "GridSearchCV 객체는 전체 데이터로 학습한 모델에 접근할 수 있도록 predict 메서드와 score 메서드를 제공합니다.\n",
    "\n",
    "GridSearchCV도 분류에는 StratifiedKFold를, 회귀에는 KFold를 기본값으로 사용합니다. 하지만 cv 매개변수를 통해 다른 교차 검증 분할기(ex: ShuffleSplit/ StratifiedShuffleSplit)를 사용할 수도 있습니다."
   ]
  },
  {
   "cell_type": "code",
   "execution_count": 37,
   "metadata": {},
   "outputs": [
    {
     "data": {
      "image/png": "[encoded data removed]",
      "text/plain": [
       "<Figure size 700x210 with 1 Axes>"
      ]
     },
     "metadata": {
      "needs_background": "light"
     },
     "output_type": "display_data"
    }
   ],
   "source": [
    "mglearn.plots.plot_grid_search_overview()"
   ]
  },
  {
   "cell_type": "code",
   "execution_count": 39,
   "metadata": {},
   "outputs": [
    {
     "name": "stdout",
     "output_type": "stream",
     "text": [
      "매개변수 그리드 : {'C': [0.001, 0.01, 0.1, 1, 10, 100], 'gamma': [0.001, 0.01, 0.1, 1, 10, 100]}\n"
     ]
    }
   ],
   "source": [
    "# 딕셔너리 형태로 검색 대상 매개변수를 지정\n",
    "param_grid = {'C' :[0.001,0.01,0.1,1,10,100], 'gamma' : [0.001,0.01,0.1,1,10,100]}\n",
    "print(\"매개변수 그리드 :\", param_grid) "
   ]
  },
  {
   "cell_type": "code",
   "execution_count": 40,
   "metadata": {},
   "outputs": [],
   "source": [
    "# GridSearchCV 객체를 생성 - 매개변수 : 모델, 매개변수 그리드, 폴드 수\n",
    "from sklearn.model_selection import GridSearchCV\n",
    "from sklearn.svm import SVC\n",
    "grid_search = GridSearchCV(SVC(), param_grid, cv=5, return_train_score=True)"
   ]
  },
  {
   "cell_type": "code",
   "execution_count": 42,
   "metadata": {},
   "outputs": [
    {
     "data": {
      "text/plain": [
       "GridSearchCV(cv=5, estimator=SVC(),\n",
       "             param_grid={'C': [0.001, 0.01, 0.1, 1, 10, 100],\n",
       "                         'gamma': [0.001, 0.01, 0.1, 1, 10, 100]},\n",
       "             return_train_score=True)"
      ]
     },
     "execution_count": 42,
     "metadata": {},
     "output_type": "execute_result"
    }
   ],
   "source": [
    "# 데이터를 훈련/검증용과 테스트용으로 나누고, 훈련/검증 세트로 교차검증을 통해 최적의 매개변수를 찾고 훈련+검증 전체 데이터로 학습까지 한다. \n",
    "X_trainval, X_test, y_trainval, y_test = train_test_split(iris.data, iris.target, random_state = 0)\n",
    "grid_search.fit(X_trainval, y_trainval)"
   ]
  },
  {
   "cell_type": "code",
   "execution_count": 43,
   "metadata": {},
   "outputs": [
    {
     "data": {
      "text/plain": [
       "0.9736842105263158"
      ]
     },
     "execution_count": 43,
     "metadata": {},
     "output_type": "execute_result"
    }
   ],
   "source": [
    "# 마지막에 해보기!\n",
    "# # 테스트 세트를 넣어 평가한다.\n",
    "# grid_search.score(X_test, y_test)"
   ]
  },
  {
   "cell_type": "code",
   "execution_count": 48,
   "metadata": {
    "scrolled": true
   },
   "outputs": [
    {
     "name": "stdout",
     "output_type": "stream",
     "text": [
      "최적의 파라미터/매개변수 : {'C': 10, 'gamma': 0.1}\n",
      "검증할 때 나온 최적의 매개변수를 설정했을 때의 정확도 :  0.9731225296442687\n",
      "최종적으로 나온, 최적의 매개변수에서 전체 훈련세트를 사용하여 학습한 모델 :  SVC(C=10, gamma=0.1)\n"
     ]
    }
   ],
   "source": [
    "print(\"최적의 파라미터/매개변수 :\",grid_search.best_params_)\n",
    "print(\"검증할 때 나온 최적의 매개변수를 설정했을 때의 정확도 : \",grid_search.best_score_)\n",
    "print(\"최종적으로 나온, 최적의 매개변수에서 전체 훈련세트를 사용하여 학습한 모델 : \", grid_search.best_estimator_)"
   ]
  },
  {
   "cell_type": "code",
   "execution_count": 49,
   "metadata": {},
   "outputs": [
    {
     "data": {
      "text/html": [
       "<div>\n",
       "<style scoped>\n",
       "    .dataframe tbody tr th:only-of-type {\n",
       "        vertical-align: middle;\n",
       "    }\n",
       "\n",
       "    .dataframe tbody tr th {\n",
       "        vertical-align: top;\n",
       "    }\n",
       "\n",
       "    .dataframe thead th {\n",
       "        text-align: right;\n",
       "    }\n",
       "</style>\n",
       "<table border=\"1\" class=\"dataframe\">\n",
       "  <thead>\n",
       "    <tr style=\"text-align: right;\">\n",
       "      <th></th>\n",
       "      <th>mean_fit_time</th>\n",
       "      <th>std_fit_time</th>\n",
       "      <th>mean_score_time</th>\n",
       "      <th>std_score_time</th>\n",
       "      <th>param_C</th>\n",
       "      <th>param_gamma</th>\n",
       "      <th>params</th>\n",
       "      <th>split0_test_score</th>\n",
       "      <th>split1_test_score</th>\n",
       "      <th>split2_test_score</th>\n",
       "      <th>...</th>\n",
       "      <th>mean_test_score</th>\n",
       "      <th>std_test_score</th>\n",
       "      <th>rank_test_score</th>\n",
       "      <th>split0_train_score</th>\n",
       "      <th>split1_train_score</th>\n",
       "      <th>split2_train_score</th>\n",
       "      <th>split3_train_score</th>\n",
       "      <th>split4_train_score</th>\n",
       "      <th>mean_train_score</th>\n",
       "      <th>std_train_score</th>\n",
       "    </tr>\n",
       "  </thead>\n",
       "  <tbody>\n",
       "    <tr>\n",
       "      <th>0</th>\n",
       "      <td>0.003058</td>\n",
       "      <td>0.000947</td>\n",
       "      <td>0.001321</td>\n",
       "      <td>0.000554</td>\n",
       "      <td>0.001</td>\n",
       "      <td>0.001</td>\n",
       "      <td>{'C': 0.001, 'gamma': 0.001}</td>\n",
       "      <td>0.347826</td>\n",
       "      <td>0.347826</td>\n",
       "      <td>0.363636</td>\n",
       "      <td>...</td>\n",
       "      <td>0.366403</td>\n",
       "      <td>0.022485</td>\n",
       "      <td>22</td>\n",
       "      <td>0.370787</td>\n",
       "      <td>0.370787</td>\n",
       "      <td>0.366667</td>\n",
       "      <td>0.366667</td>\n",
       "      <td>0.355556</td>\n",
       "      <td>0.366092</td>\n",
       "      <td>0.005581</td>\n",
       "    </tr>\n",
       "    <tr>\n",
       "      <th>1</th>\n",
       "      <td>0.002548</td>\n",
       "      <td>0.000659</td>\n",
       "      <td>0.000896</td>\n",
       "      <td>0.000282</td>\n",
       "      <td>0.001</td>\n",
       "      <td>0.01</td>\n",
       "      <td>{'C': 0.001, 'gamma': 0.01}</td>\n",
       "      <td>0.347826</td>\n",
       "      <td>0.347826</td>\n",
       "      <td>0.363636</td>\n",
       "      <td>...</td>\n",
       "      <td>0.366403</td>\n",
       "      <td>0.022485</td>\n",
       "      <td>22</td>\n",
       "      <td>0.370787</td>\n",
       "      <td>0.370787</td>\n",
       "      <td>0.366667</td>\n",
       "      <td>0.366667</td>\n",
       "      <td>0.355556</td>\n",
       "      <td>0.366092</td>\n",
       "      <td>0.005581</td>\n",
       "    </tr>\n",
       "    <tr>\n",
       "      <th>2</th>\n",
       "      <td>0.002307</td>\n",
       "      <td>0.001068</td>\n",
       "      <td>0.000785</td>\n",
       "      <td>0.000183</td>\n",
       "      <td>0.001</td>\n",
       "      <td>0.1</td>\n",
       "      <td>{'C': 0.001, 'gamma': 0.1}</td>\n",
       "      <td>0.347826</td>\n",
       "      <td>0.347826</td>\n",
       "      <td>0.363636</td>\n",
       "      <td>...</td>\n",
       "      <td>0.366403</td>\n",
       "      <td>0.022485</td>\n",
       "      <td>22</td>\n",
       "      <td>0.370787</td>\n",
       "      <td>0.370787</td>\n",
       "      <td>0.366667</td>\n",
       "      <td>0.366667</td>\n",
       "      <td>0.355556</td>\n",
       "      <td>0.366092</td>\n",
       "      <td>0.005581</td>\n",
       "    </tr>\n",
       "    <tr>\n",
       "      <th>3</th>\n",
       "      <td>0.001729</td>\n",
       "      <td>0.000505</td>\n",
       "      <td>0.000841</td>\n",
       "      <td>0.000373</td>\n",
       "      <td>0.001</td>\n",
       "      <td>1</td>\n",
       "      <td>{'C': 0.001, 'gamma': 1}</td>\n",
       "      <td>0.347826</td>\n",
       "      <td>0.347826</td>\n",
       "      <td>0.363636</td>\n",
       "      <td>...</td>\n",
       "      <td>0.366403</td>\n",
       "      <td>0.022485</td>\n",
       "      <td>22</td>\n",
       "      <td>0.370787</td>\n",
       "      <td>0.370787</td>\n",
       "      <td>0.366667</td>\n",
       "      <td>0.366667</td>\n",
       "      <td>0.355556</td>\n",
       "      <td>0.366092</td>\n",
       "      <td>0.005581</td>\n",
       "    </tr>\n",
       "    <tr>\n",
       "      <th>4</th>\n",
       "      <td>0.002488</td>\n",
       "      <td>0.000537</td>\n",
       "      <td>0.001200</td>\n",
       "      <td>0.000130</td>\n",
       "      <td>0.001</td>\n",
       "      <td>10</td>\n",
       "      <td>{'C': 0.001, 'gamma': 10}</td>\n",
       "      <td>0.347826</td>\n",
       "      <td>0.347826</td>\n",
       "      <td>0.363636</td>\n",
       "      <td>...</td>\n",
       "      <td>0.366403</td>\n",
       "      <td>0.022485</td>\n",
       "      <td>22</td>\n",
       "      <td>0.370787</td>\n",
       "      <td>0.370787</td>\n",
       "      <td>0.366667</td>\n",
       "      <td>0.366667</td>\n",
       "      <td>0.355556</td>\n",
       "      <td>0.366092</td>\n",
       "      <td>0.005581</td>\n",
       "    </tr>\n",
       "    <tr>\n",
       "      <th>5</th>\n",
       "      <td>0.002097</td>\n",
       "      <td>0.000188</td>\n",
       "      <td>0.000865</td>\n",
       "      <td>0.000041</td>\n",
       "      <td>0.001</td>\n",
       "      <td>100</td>\n",
       "      <td>{'C': 0.001, 'gamma': 100}</td>\n",
       "      <td>0.347826</td>\n",
       "      <td>0.347826</td>\n",
       "      <td>0.363636</td>\n",
       "      <td>...</td>\n",
       "      <td>0.366403</td>\n",
       "      <td>0.022485</td>\n",
       "      <td>22</td>\n",
       "      <td>0.370787</td>\n",
       "      <td>0.370787</td>\n",
       "      <td>0.366667</td>\n",
       "      <td>0.366667</td>\n",
       "      <td>0.355556</td>\n",
       "      <td>0.366092</td>\n",
       "      <td>0.005581</td>\n",
       "    </tr>\n",
       "    <tr>\n",
       "      <th>6</th>\n",
       "      <td>0.001684</td>\n",
       "      <td>0.000234</td>\n",
       "      <td>0.000723</td>\n",
       "      <td>0.000142</td>\n",
       "      <td>0.01</td>\n",
       "      <td>0.001</td>\n",
       "      <td>{'C': 0.01, 'gamma': 0.001}</td>\n",
       "      <td>0.347826</td>\n",
       "      <td>0.347826</td>\n",
       "      <td>0.363636</td>\n",
       "      <td>...</td>\n",
       "      <td>0.366403</td>\n",
       "      <td>0.022485</td>\n",
       "      <td>22</td>\n",
       "      <td>0.370787</td>\n",
       "      <td>0.370787</td>\n",
       "      <td>0.366667</td>\n",
       "      <td>0.366667</td>\n",
       "      <td>0.355556</td>\n",
       "      <td>0.366092</td>\n",
       "      <td>0.005581</td>\n",
       "    </tr>\n",
       "    <tr>\n",
       "      <th>7</th>\n",
       "      <td>0.001675</td>\n",
       "      <td>0.000305</td>\n",
       "      <td>0.000707</td>\n",
       "      <td>0.000317</td>\n",
       "      <td>0.01</td>\n",
       "      <td>0.01</td>\n",
       "      <td>{'C': 0.01, 'gamma': 0.01}</td>\n",
       "      <td>0.347826</td>\n",
       "      <td>0.347826</td>\n",
       "      <td>0.363636</td>\n",
       "      <td>...</td>\n",
       "      <td>0.366403</td>\n",
       "      <td>0.022485</td>\n",
       "      <td>22</td>\n",
       "      <td>0.370787</td>\n",
       "      <td>0.370787</td>\n",
       "      <td>0.366667</td>\n",
       "      <td>0.366667</td>\n",
       "      <td>0.355556</td>\n",
       "      <td>0.366092</td>\n",
       "      <td>0.005581</td>\n",
       "    </tr>\n",
       "    <tr>\n",
       "      <th>8</th>\n",
       "      <td>0.001460</td>\n",
       "      <td>0.000241</td>\n",
       "      <td>0.000768</td>\n",
       "      <td>0.000303</td>\n",
       "      <td>0.01</td>\n",
       "      <td>0.1</td>\n",
       "      <td>{'C': 0.01, 'gamma': 0.1}</td>\n",
       "      <td>0.347826</td>\n",
       "      <td>0.347826</td>\n",
       "      <td>0.363636</td>\n",
       "      <td>...</td>\n",
       "      <td>0.366403</td>\n",
       "      <td>0.022485</td>\n",
       "      <td>22</td>\n",
       "      <td>0.370787</td>\n",
       "      <td>0.370787</td>\n",
       "      <td>0.366667</td>\n",
       "      <td>0.366667</td>\n",
       "      <td>0.355556</td>\n",
       "      <td>0.366092</td>\n",
       "      <td>0.005581</td>\n",
       "    </tr>\n",
       "    <tr>\n",
       "      <th>9</th>\n",
       "      <td>0.001437</td>\n",
       "      <td>0.000238</td>\n",
       "      <td>0.000534</td>\n",
       "      <td>0.000051</td>\n",
       "      <td>0.01</td>\n",
       "      <td>1</td>\n",
       "      <td>{'C': 0.01, 'gamma': 1}</td>\n",
       "      <td>0.347826</td>\n",
       "      <td>0.347826</td>\n",
       "      <td>0.363636</td>\n",
       "      <td>...</td>\n",
       "      <td>0.366403</td>\n",
       "      <td>0.022485</td>\n",
       "      <td>22</td>\n",
       "      <td>0.370787</td>\n",
       "      <td>0.370787</td>\n",
       "      <td>0.366667</td>\n",
       "      <td>0.366667</td>\n",
       "      <td>0.355556</td>\n",
       "      <td>0.366092</td>\n",
       "      <td>0.005581</td>\n",
       "    </tr>\n",
       "    <tr>\n",
       "      <th>10</th>\n",
       "      <td>0.001929</td>\n",
       "      <td>0.000776</td>\n",
       "      <td>0.000764</td>\n",
       "      <td>0.000197</td>\n",
       "      <td>0.01</td>\n",
       "      <td>10</td>\n",
       "      <td>{'C': 0.01, 'gamma': 10}</td>\n",
       "      <td>0.347826</td>\n",
       "      <td>0.347826</td>\n",
       "      <td>0.363636</td>\n",
       "      <td>...</td>\n",
       "      <td>0.366403</td>\n",
       "      <td>0.022485</td>\n",
       "      <td>22</td>\n",
       "      <td>0.370787</td>\n",
       "      <td>0.370787</td>\n",
       "      <td>0.366667</td>\n",
       "      <td>0.366667</td>\n",
       "      <td>0.355556</td>\n",
       "      <td>0.366092</td>\n",
       "      <td>0.005581</td>\n",
       "    </tr>\n",
       "    <tr>\n",
       "      <th>11</th>\n",
       "      <td>0.001489</td>\n",
       "      <td>0.000146</td>\n",
       "      <td>0.000678</td>\n",
       "      <td>0.000127</td>\n",
       "      <td>0.01</td>\n",
       "      <td>100</td>\n",
       "      <td>{'C': 0.01, 'gamma': 100}</td>\n",
       "      <td>0.347826</td>\n",
       "      <td>0.347826</td>\n",
       "      <td>0.363636</td>\n",
       "      <td>...</td>\n",
       "      <td>0.366403</td>\n",
       "      <td>0.022485</td>\n",
       "      <td>22</td>\n",
       "      <td>0.370787</td>\n",
       "      <td>0.370787</td>\n",
       "      <td>0.366667</td>\n",
       "      <td>0.366667</td>\n",
       "      <td>0.355556</td>\n",
       "      <td>0.366092</td>\n",
       "      <td>0.005581</td>\n",
       "    </tr>\n",
       "    <tr>\n",
       "      <th>12</th>\n",
       "      <td>0.001905</td>\n",
       "      <td>0.000515</td>\n",
       "      <td>0.000961</td>\n",
       "      <td>0.000546</td>\n",
       "      <td>0.1</td>\n",
       "      <td>0.001</td>\n",
       "      <td>{'C': 0.1, 'gamma': 0.001}</td>\n",
       "      <td>0.347826</td>\n",
       "      <td>0.347826</td>\n",
       "      <td>0.363636</td>\n",
       "      <td>...</td>\n",
       "      <td>0.366403</td>\n",
       "      <td>0.022485</td>\n",
       "      <td>22</td>\n",
       "      <td>0.370787</td>\n",
       "      <td>0.370787</td>\n",
       "      <td>0.366667</td>\n",
       "      <td>0.366667</td>\n",
       "      <td>0.355556</td>\n",
       "      <td>0.366092</td>\n",
       "      <td>0.005581</td>\n",
       "    </tr>\n",
       "    <tr>\n",
       "      <th>13</th>\n",
       "      <td>0.001604</td>\n",
       "      <td>0.000630</td>\n",
       "      <td>0.000650</td>\n",
       "      <td>0.000146</td>\n",
       "      <td>0.1</td>\n",
       "      <td>0.01</td>\n",
       "      <td>{'C': 0.1, 'gamma': 0.01}</td>\n",
       "      <td>0.695652</td>\n",
       "      <td>0.695652</td>\n",
       "      <td>0.681818</td>\n",
       "      <td>...</td>\n",
       "      <td>0.696443</td>\n",
       "      <td>0.016610</td>\n",
       "      <td>17</td>\n",
       "      <td>0.696629</td>\n",
       "      <td>0.696629</td>\n",
       "      <td>0.700000</td>\n",
       "      <td>0.700000</td>\n",
       "      <td>0.688889</td>\n",
       "      <td>0.696429</td>\n",
       "      <td>0.004060</td>\n",
       "    </tr>\n",
       "    <tr>\n",
       "      <th>14</th>\n",
       "      <td>0.001861</td>\n",
       "      <td>0.000901</td>\n",
       "      <td>0.000696</td>\n",
       "      <td>0.000132</td>\n",
       "      <td>0.1</td>\n",
       "      <td>0.1</td>\n",
       "      <td>{'C': 0.1, 'gamma': 0.1}</td>\n",
       "      <td>0.913043</td>\n",
       "      <td>0.913043</td>\n",
       "      <td>0.909091</td>\n",
       "      <td>...</td>\n",
       "      <td>0.901581</td>\n",
       "      <td>0.019054</td>\n",
       "      <td>16</td>\n",
       "      <td>0.898876</td>\n",
       "      <td>0.932584</td>\n",
       "      <td>0.877778</td>\n",
       "      <td>0.888889</td>\n",
       "      <td>0.933333</td>\n",
       "      <td>0.906292</td>\n",
       "      <td>0.022775</td>\n",
       "    </tr>\n",
       "    <tr>\n",
       "      <th>15</th>\n",
       "      <td>0.001643</td>\n",
       "      <td>0.000277</td>\n",
       "      <td>0.000599</td>\n",
       "      <td>0.000077</td>\n",
       "      <td>0.1</td>\n",
       "      <td>1</td>\n",
       "      <td>{'C': 0.1, 'gamma': 1}</td>\n",
       "      <td>1.000000</td>\n",
       "      <td>0.913043</td>\n",
       "      <td>1.000000</td>\n",
       "      <td>...</td>\n",
       "      <td>0.955336</td>\n",
       "      <td>0.039794</td>\n",
       "      <td>6</td>\n",
       "      <td>0.943820</td>\n",
       "      <td>0.977528</td>\n",
       "      <td>0.944444</td>\n",
       "      <td>0.966667</td>\n",
       "      <td>0.955556</td>\n",
       "      <td>0.957603</td>\n",
       "      <td>0.013011</td>\n",
       "    </tr>\n",
       "    <tr>\n",
       "      <th>16</th>\n",
       "      <td>0.001722</td>\n",
       "      <td>0.000306</td>\n",
       "      <td>0.000853</td>\n",
       "      <td>0.000254</td>\n",
       "      <td>0.1</td>\n",
       "      <td>10</td>\n",
       "      <td>{'C': 0.1, 'gamma': 10}</td>\n",
       "      <td>0.347826</td>\n",
       "      <td>0.347826</td>\n",
       "      <td>0.363636</td>\n",
       "      <td>...</td>\n",
       "      <td>0.366403</td>\n",
       "      <td>0.022485</td>\n",
       "      <td>22</td>\n",
       "      <td>0.382022</td>\n",
       "      <td>0.393258</td>\n",
       "      <td>0.366667</td>\n",
       "      <td>0.400000</td>\n",
       "      <td>0.355556</td>\n",
       "      <td>0.379501</td>\n",
       "      <td>0.016456</td>\n",
       "    </tr>\n",
       "    <tr>\n",
       "      <th>17</th>\n",
       "      <td>0.002600</td>\n",
       "      <td>0.000865</td>\n",
       "      <td>0.000954</td>\n",
       "      <td>0.000209</td>\n",
       "      <td>0.1</td>\n",
       "      <td>100</td>\n",
       "      <td>{'C': 0.1, 'gamma': 100}</td>\n",
       "      <td>0.347826</td>\n",
       "      <td>0.347826</td>\n",
       "      <td>0.363636</td>\n",
       "      <td>...</td>\n",
       "      <td>0.366403</td>\n",
       "      <td>0.022485</td>\n",
       "      <td>22</td>\n",
       "      <td>0.370787</td>\n",
       "      <td>0.370787</td>\n",
       "      <td>0.366667</td>\n",
       "      <td>0.366667</td>\n",
       "      <td>0.355556</td>\n",
       "      <td>0.366092</td>\n",
       "      <td>0.005581</td>\n",
       "    </tr>\n",
       "    <tr>\n",
       "      <th>18</th>\n",
       "      <td>0.001792</td>\n",
       "      <td>0.000278</td>\n",
       "      <td>0.000749</td>\n",
       "      <td>0.000182</td>\n",
       "      <td>1</td>\n",
       "      <td>0.001</td>\n",
       "      <td>{'C': 1, 'gamma': 0.001}</td>\n",
       "      <td>0.695652</td>\n",
       "      <td>0.695652</td>\n",
       "      <td>0.681818</td>\n",
       "      <td>...</td>\n",
       "      <td>0.696443</td>\n",
       "      <td>0.016610</td>\n",
       "      <td>17</td>\n",
       "      <td>0.696629</td>\n",
       "      <td>0.696629</td>\n",
       "      <td>0.700000</td>\n",
       "      <td>0.700000</td>\n",
       "      <td>0.688889</td>\n",
       "      <td>0.696429</td>\n",
       "      <td>0.004060</td>\n",
       "    </tr>\n",
       "    <tr>\n",
       "      <th>19</th>\n",
       "      <td>0.001659</td>\n",
       "      <td>0.000607</td>\n",
       "      <td>0.001133</td>\n",
       "      <td>0.000520</td>\n",
       "      <td>1</td>\n",
       "      <td>0.01</td>\n",
       "      <td>{'C': 1, 'gamma': 0.01}</td>\n",
       "      <td>0.913043</td>\n",
       "      <td>0.913043</td>\n",
       "      <td>1.000000</td>\n",
       "      <td>...</td>\n",
       "      <td>0.937945</td>\n",
       "      <td>0.035211</td>\n",
       "      <td>11</td>\n",
       "      <td>0.943820</td>\n",
       "      <td>0.932584</td>\n",
       "      <td>0.922222</td>\n",
       "      <td>0.944444</td>\n",
       "      <td>0.933333</td>\n",
       "      <td>0.935281</td>\n",
       "      <td>0.008228</td>\n",
       "    </tr>\n",
       "    <tr>\n",
       "      <th>20</th>\n",
       "      <td>0.001271</td>\n",
       "      <td>0.000294</td>\n",
       "      <td>0.000592</td>\n",
       "      <td>0.000159</td>\n",
       "      <td>1</td>\n",
       "      <td>0.1</td>\n",
       "      <td>{'C': 1, 'gamma': 0.1}</td>\n",
       "      <td>1.000000</td>\n",
       "      <td>0.956522</td>\n",
       "      <td>1.000000</td>\n",
       "      <td>...</td>\n",
       "      <td>0.964032</td>\n",
       "      <td>0.033918</td>\n",
       "      <td>3</td>\n",
       "      <td>0.977528</td>\n",
       "      <td>0.966292</td>\n",
       "      <td>0.966667</td>\n",
       "      <td>0.977778</td>\n",
       "      <td>0.977778</td>\n",
       "      <td>0.973208</td>\n",
       "      <td>0.005496</td>\n",
       "    </tr>\n",
       "    <tr>\n",
       "      <th>21</th>\n",
       "      <td>0.001309</td>\n",
       "      <td>0.000326</td>\n",
       "      <td>0.000701</td>\n",
       "      <td>0.000286</td>\n",
       "      <td>1</td>\n",
       "      <td>1</td>\n",
       "      <td>{'C': 1, 'gamma': 1}</td>\n",
       "      <td>0.956522</td>\n",
       "      <td>0.913043</td>\n",
       "      <td>1.000000</td>\n",
       "      <td>...</td>\n",
       "      <td>0.946640</td>\n",
       "      <td>0.033305</td>\n",
       "      <td>8</td>\n",
       "      <td>0.977528</td>\n",
       "      <td>1.000000</td>\n",
       "      <td>0.977778</td>\n",
       "      <td>1.000000</td>\n",
       "      <td>0.977778</td>\n",
       "      <td>0.986617</td>\n",
       "      <td>0.010928</td>\n",
       "    </tr>\n",
       "    <tr>\n",
       "      <th>22</th>\n",
       "      <td>0.001762</td>\n",
       "      <td>0.000395</td>\n",
       "      <td>0.000724</td>\n",
       "      <td>0.000258</td>\n",
       "      <td>1</td>\n",
       "      <td>10</td>\n",
       "      <td>{'C': 1, 'gamma': 10}</td>\n",
       "      <td>0.913043</td>\n",
       "      <td>0.956522</td>\n",
       "      <td>1.000000</td>\n",
       "      <td>...</td>\n",
       "      <td>0.928458</td>\n",
       "      <td>0.061620</td>\n",
       "      <td>13</td>\n",
       "      <td>1.000000</td>\n",
       "      <td>1.000000</td>\n",
       "      <td>1.000000</td>\n",
       "      <td>1.000000</td>\n",
       "      <td>1.000000</td>\n",
       "      <td>1.000000</td>\n",
       "      <td>0.000000</td>\n",
       "    </tr>\n",
       "    <tr>\n",
       "      <th>23</th>\n",
       "      <td>0.001991</td>\n",
       "      <td>0.000430</td>\n",
       "      <td>0.000766</td>\n",
       "      <td>0.000312</td>\n",
       "      <td>1</td>\n",
       "      <td>100</td>\n",
       "      <td>{'C': 1, 'gamma': 100}</td>\n",
       "      <td>0.391304</td>\n",
       "      <td>0.434783</td>\n",
       "      <td>0.545455</td>\n",
       "      <td>...</td>\n",
       "      <td>0.501581</td>\n",
       "      <td>0.085693</td>\n",
       "      <td>21</td>\n",
       "      <td>1.000000</td>\n",
       "      <td>1.000000</td>\n",
       "      <td>1.000000</td>\n",
       "      <td>1.000000</td>\n",
       "      <td>1.000000</td>\n",
       "      <td>1.000000</td>\n",
       "      <td>0.000000</td>\n",
       "    </tr>\n",
       "    <tr>\n",
       "      <th>24</th>\n",
       "      <td>0.001920</td>\n",
       "      <td>0.000715</td>\n",
       "      <td>0.000857</td>\n",
       "      <td>0.000286</td>\n",
       "      <td>10</td>\n",
       "      <td>0.001</td>\n",
       "      <td>{'C': 10, 'gamma': 0.001}</td>\n",
       "      <td>0.913043</td>\n",
       "      <td>0.913043</td>\n",
       "      <td>1.000000</td>\n",
       "      <td>...</td>\n",
       "      <td>0.937945</td>\n",
       "      <td>0.035211</td>\n",
       "      <td>11</td>\n",
       "      <td>0.943820</td>\n",
       "      <td>0.932584</td>\n",
       "      <td>0.922222</td>\n",
       "      <td>0.933333</td>\n",
       "      <td>0.933333</td>\n",
       "      <td>0.933059</td>\n",
       "      <td>0.006835</td>\n",
       "    </tr>\n",
       "  </tbody>\n",
       "</table>\n",
       "<p>25 rows × 22 columns</p>\n",
       "</div>"
      ],
      "text/plain": [
       "    mean_fit_time  std_fit_time  mean_score_time  std_score_time param_C  \\\n",
       "0        0.003058      0.000947         0.001321        0.000554   0.001   \n",
       "1        0.002548      0.000659         0.000896        0.000282   0.001   \n",
       "2        0.002307      0.001068         0.000785        0.000183   0.001   \n",
       "3        0.001729      0.000505         0.000841        0.000373   0.001   \n",
       "4        0.002488      0.000537         0.001200        0.000130   0.001   \n",
       "5        0.002097      0.000188         0.000865        0.000041   0.001   \n",
       "6        0.001684      0.000234         0.000723        0.000142    0.01   \n",
       "7        0.001675      0.000305         0.000707        0.000317    0.01   \n",
       "8        0.001460      0.000241         0.000768        0.000303    0.01   \n",
       "9        0.001437      0.000238         0.000534        0.000051    0.01   \n",
       "10       0.001929      0.000776         0.000764        0.000197    0.01   \n",
       "11       0.001489      0.000146         0.000678        0.000127    0.01   \n",
       "12       0.001905      0.000515         0.000961        0.000546     0.1   \n",
       "13       0.001604      0.000630         0.000650        0.000146     0.1   \n",
       "14       0.001861      0.000901         0.000696        0.000132     0.1   \n",
       "15       0.001643      0.000277         0.000599        0.000077     0.1   \n",
       "16       0.001722      0.000306         0.000853        0.000254     0.1   \n",
       "17       0.002600      0.000865         0.000954        0.000209     0.1   \n",
       "18       0.001792      0.000278         0.000749        0.000182       1   \n",
       "19       0.001659      0.000607         0.001133        0.000520       1   \n",
       "20       0.001271      0.000294         0.000592        0.000159       1   \n",
       "21       0.001309      0.000326         0.000701        0.000286       1   \n",
       "22       0.001762      0.000395         0.000724        0.000258       1   \n",
       "23       0.001991      0.000430         0.000766        0.000312       1   \n",
       "24       0.001920      0.000715         0.000857        0.000286      10   \n",
       "\n",
       "   param_gamma                        params  split0_test_score  \\\n",
       "0        0.001  {'C': 0.001, 'gamma': 0.001}           0.347826   \n",
       "1         0.01   {'C': 0.001, 'gamma': 0.01}           0.347826   \n",
       "2          0.1    {'C': 0.001, 'gamma': 0.1}           0.347826   \n",
       "3            1      {'C': 0.001, 'gamma': 1}           0.347826   \n",
       "4           10     {'C': 0.001, 'gamma': 10}           0.347826   \n",
       "5          100    {'C': 0.001, 'gamma': 100}           0.347826   \n",
       "6        0.001   {'C': 0.01, 'gamma': 0.001}           0.347826   \n",
       "7         0.01    {'C': 0.01, 'gamma': 0.01}           0.347826   \n",
       "8          0.1     {'C': 0.01, 'gamma': 0.1}           0.347826   \n",
       "9            1       {'C': 0.01, 'gamma': 1}           0.347826   \n",
       "10          10      {'C': 0.01, 'gamma': 10}           0.347826   \n",
       "11         100     {'C': 0.01, 'gamma': 100}           0.347826   \n",
       "12       0.001    {'C': 0.1, 'gamma': 0.001}           0.347826   \n",
       "13        0.01     {'C': 0.1, 'gamma': 0.01}           0.695652   \n",
       "14         0.1      {'C': 0.1, 'gamma': 0.1}           0.913043   \n",
       "15           1        {'C': 0.1, 'gamma': 1}           1.000000   \n",
       "16          10       {'C': 0.1, 'gamma': 10}           0.347826   \n",
       "17         100      {'C': 0.1, 'gamma': 100}           0.347826   \n",
       "18       0.001      {'C': 1, 'gamma': 0.001}           0.695652   \n",
       "19        0.01       {'C': 1, 'gamma': 0.01}           0.913043   \n",
       "20         0.1        {'C': 1, 'gamma': 0.1}           1.000000   \n",
       "21           1          {'C': 1, 'gamma': 1}           0.956522   \n",
       "22          10         {'C': 1, 'gamma': 10}           0.913043   \n",
       "23         100        {'C': 1, 'gamma': 100}           0.391304   \n",
       "24       0.001     {'C': 10, 'gamma': 0.001}           0.913043   \n",
       "\n",
       "    split1_test_score  split2_test_score  ...  mean_test_score  \\\n",
       "0            0.347826           0.363636  ...         0.366403   \n",
       "1            0.347826           0.363636  ...         0.366403   \n",
       "2            0.347826           0.363636  ...         0.366403   \n",
       "3            0.347826           0.363636  ...         0.366403   \n",
       "4            0.347826           0.363636  ...         0.366403   \n",
       "5            0.347826           0.363636  ...         0.366403   \n",
       "6            0.347826           0.363636  ...         0.366403   \n",
       "7            0.347826           0.363636  ...         0.366403   \n",
       "8            0.347826           0.363636  ...         0.366403   \n",
       "9            0.347826           0.363636  ...         0.366403   \n",
       "10           0.347826           0.363636  ...         0.366403   \n",
       "11           0.347826           0.363636  ...         0.366403   \n",
       "12           0.347826           0.363636  ...         0.366403   \n",
       "13           0.695652           0.681818  ...         0.696443   \n",
       "14           0.913043           0.909091  ...         0.901581   \n",
       "15           0.913043           1.000000  ...         0.955336   \n",
       "16           0.347826           0.363636  ...         0.366403   \n",
       "17           0.347826           0.363636  ...         0.366403   \n",
       "18           0.695652           0.681818  ...         0.696443   \n",
       "19           0.913043           1.000000  ...         0.937945   \n",
       "20           0.956522           1.000000  ...         0.964032   \n",
       "21           0.913043           1.000000  ...         0.946640   \n",
       "22           0.956522           1.000000  ...         0.928458   \n",
       "23           0.434783           0.545455  ...         0.501581   \n",
       "24           0.913043           1.000000  ...         0.937945   \n",
       "\n",
       "    std_test_score  rank_test_score  split0_train_score  split1_train_score  \\\n",
       "0         0.022485               22            0.370787            0.370787   \n",
       "1         0.022485               22            0.370787            0.370787   \n",
       "2         0.022485               22            0.370787            0.370787   \n",
       "3         0.022485               22            0.370787            0.370787   \n",
       "4         0.022485               22            0.370787            0.370787   \n",
       "5         0.022485               22            0.370787            0.370787   \n",
       "6         0.022485               22            0.370787            0.370787   \n",
       "7         0.022485               22            0.370787            0.370787   \n",
       "8         0.022485               22            0.370787            0.370787   \n",
       "9         0.022485               22            0.370787            0.370787   \n",
       "10        0.022485               22            0.370787            0.370787   \n",
       "11        0.022485               22            0.370787            0.370787   \n",
       "12        0.022485               22            0.370787            0.370787   \n",
       "13        0.016610               17            0.696629            0.696629   \n",
       "14        0.019054               16            0.898876            0.932584   \n",
       "15        0.039794                6            0.943820            0.977528   \n",
       "16        0.022485               22            0.382022            0.393258   \n",
       "17        0.022485               22            0.370787            0.370787   \n",
       "18        0.016610               17            0.696629            0.696629   \n",
       "19        0.035211               11            0.943820            0.932584   \n",
       "20        0.033918                3            0.977528            0.966292   \n",
       "21        0.033305                8            0.977528            1.000000   \n",
       "22        0.061620               13            1.000000            1.000000   \n",
       "23        0.085693               21            1.000000            1.000000   \n",
       "24        0.035211               11            0.943820            0.932584   \n",
       "\n",
       "    split2_train_score  split3_train_score  split4_train_score  \\\n",
       "0             0.366667            0.366667            0.355556   \n",
       "1             0.366667            0.366667            0.355556   \n",
       "2             0.366667            0.366667            0.355556   \n",
       "3             0.366667            0.366667            0.355556   \n",
       "4             0.366667            0.366667            0.355556   \n",
       "5             0.366667            0.366667            0.355556   \n",
       "6             0.366667            0.366667            0.355556   \n",
       "7             0.366667            0.366667            0.355556   \n",
       "8             0.366667            0.366667            0.355556   \n",
       "9             0.366667            0.366667            0.355556   \n",
       "10            0.366667            0.366667            0.355556   \n",
       "11            0.366667            0.366667            0.355556   \n",
       "12            0.366667            0.366667            0.355556   \n",
       "13            0.700000            0.700000            0.688889   \n",
       "14            0.877778            0.888889            0.933333   \n",
       "15            0.944444            0.966667            0.955556   \n",
       "16            0.366667            0.400000            0.355556   \n",
       "17            0.366667            0.366667            0.355556   \n",
       "18            0.700000            0.700000            0.688889   \n",
       "19            0.922222            0.944444            0.933333   \n",
       "20            0.966667            0.977778            0.977778   \n",
       "21            0.977778            1.000000            0.977778   \n",
       "22            1.000000            1.000000            1.000000   \n",
       "23            1.000000            1.000000            1.000000   \n",
       "24            0.922222            0.933333            0.933333   \n",
       "\n",
       "    mean_train_score  std_train_score  \n",
       "0           0.366092         0.005581  \n",
       "1           0.366092         0.005581  \n",
       "2           0.366092         0.005581  \n",
       "3           0.366092         0.005581  \n",
       "4           0.366092         0.005581  \n",
       "5           0.366092         0.005581  \n",
       "6           0.366092         0.005581  \n",
       "7           0.366092         0.005581  \n",
       "8           0.366092         0.005581  \n",
       "9           0.366092         0.005581  \n",
       "10          0.366092         0.005581  \n",
       "11          0.366092         0.005581  \n",
       "12          0.366092         0.005581  \n",
       "13          0.696429         0.004060  \n",
       "14          0.906292         0.022775  \n",
       "15          0.957603         0.013011  \n",
       "16          0.379501         0.016456  \n",
       "17          0.366092         0.005581  \n",
       "18          0.696429         0.004060  \n",
       "19          0.935281         0.008228  \n",
       "20          0.973208         0.005496  \n",
       "21          0.986617         0.010928  \n",
       "22          1.000000         0.000000  \n",
       "23          1.000000         0.000000  \n",
       "24          0.933059         0.006835  \n",
       "\n",
       "[25 rows x 22 columns]"
      ]
     },
     "execution_count": 49,
     "metadata": {},
     "output_type": "execute_result"
    }
   ],
   "source": [
    "# 그리드 서치의 결과는 cv_results_ 속성에 담겨 있습니다. 데이터 프레임으로 변환해서 보는 것이 좋습니다.\n",
    "results = pd.DataFrame(grid_search.cv_results_)\n",
    "results.head(25)"
   ]
  },
  {
   "cell_type": "code",
   "execution_count": 53,
   "metadata": {},
   "outputs": [
    {
     "data": {
      "text/plain": [
       "<matplotlib.collections.PolyCollection at 0x7f21acbe4780>"
      ]
     },
     "execution_count": 53,
     "metadata": {},
     "output_type": "execute_result"
    },
    {
     "data": {
      "image/png": "[encoded data removed]",
      "text/plain": [
       "<Figure size 432x288 with 1 Axes>"
      ]
     },
     "metadata": {
      "needs_background": "light"
     },
     "output_type": "display_data"
    }
   ],
   "source": [
    "# mean_train_score : ?\n",
    "# mean_test_score을 히트맵으로 시각화 \n",
    "# mean_test_score: 매개변수 조합 당 검증 점수 평균 (폴드 스플릿 하나당 하나의 검증 점수가 나옴, validation set으로 테스트한 느낌)\n",
    "scores = np.array(results.mean_test_score).reshape(6,6)\n",
    "mglearn.tools.heatmap(scores, xlabel='gamma', xticklabels=param_grid['gamma'], ylabel ='C', yticklabels=param_grid['C'], cmap='viridis')"
   ]
  },
  {
   "cell_type": "markdown",
   "metadata": {},
   "source": [
    "-> 매개변수에 따라 정확도가 40%에서 96% 까지 큰 차이가 난다. 즉, 높은 성능을 얻기 위해서 매개변수 조정이 중요하다!\n",
    "\n",
    "-> 주의 : 매개변수 최적값이 그래프 끝에 놓이지 않도록 매개변수의 범위가 충분히 넓어야 한다."
   ]
  },
  {
   "cell_type": "markdown",
   "metadata": {},
   "source": [
    "# 중첩 교차 검증(nested cross-validation)\n",
    "바깥쪽 루프에서 데이터를 훈련 세트와 테스트(+검증)세트로 나눕니다. 그리고 각 훈련 세트에 대해 그리드 서치를 실행합니다. \n",
    "\n",
    "(바깥쪽 루프에서 분할된 훈련 세트마다 최적의 매개변수가 다를 것임)\n",
    "\n",
    "그런 다음 바깥쪽에서 분할된 테스트 세트를 최적 매개변수 설정의 모델에 넣어서 점수를 측정합니다. \n",
    "\n",
    "--> 데이터 셋에서 주어진 모델이 얼마나 잘 일반화되는지 평가하는 데 유용\n"
   ]
  },
  {
   "cell_type": "code",
   "execution_count": 55,
   "metadata": {},
   "outputs": [
    {
     "name": "stdout",
     "output_type": "stream",
     "text": [
      "교차검증점수 :  [0.96666667 1.         0.96666667 0.96666667 1.        ]\n",
      "교차검증 점수 평균 :  0.9800000000000001\n"
     ]
    }
   ],
   "source": [
    "param_grid = {'C' :[0.001,0.01,0.1,1,10,100], 'gamma' : [0.001,0.01,0.1,1,10,100]}\n",
    "scores = cross_val_score(GridSearchCV(SVC(), param_grid, cv = 5), iris.data, iris.target, cv = 5)\n",
    "print(\"교차검증점수 : \", scores)\n",
    "print(\"교차검증 점수 평균 : \", scores.mean() )"
   ]
  },
  {
   "cell_type": "markdown",
   "metadata": {},
   "source": [
    "가장 바깥쪽에 훈련/테스트를 나누는 방법으로 5가지 \n",
    "\n",
    "그리고 훈련세트 안에서 그리드 서치로 최적의 매개변수를 찾는 매개변수 조합이 6*6=36 가지\n",
    "\n",
    "한 가지 매개변수 조합에 대해 5가지 폴드 스플릿 방법을 쓰므로\n",
    "\n",
    "--> 5*5*36 = 900개의 모델이 만들어지게 된다. "
   ]
  }
 ],
 "metadata": {
  "kernelspec": {
   "display_name": "Python 3",
   "language": "python",
   "name": "python3"
  },
  "language_info": {
   "codemirror_mode": {
    "name": "ipython",
    "version": 3
   },
   "file_extension": ".py",
   "mimetype": "text/x-python",
   "name": "python",
   "nbconvert_exporter": "python",
   "pygments_lexer": "ipython3",
   "version": "3.6.9"
  }
 },
 "nbformat": 4,
 "nbformat_minor": 4
}
